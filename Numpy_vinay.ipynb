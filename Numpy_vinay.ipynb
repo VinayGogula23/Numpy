{
 "cells": [
  {
   "cell_type": "code",
   "execution_count": 1,
   "id": "cee22462",
   "metadata": {},
   "outputs": [],
   "source": [
    "import numpy as np"
   ]
  },
  {
   "cell_type": "code",
   "execution_count": 29,
   "id": "eac6b559",
   "metadata": {},
   "outputs": [],
   "source": [
    "#Creating  Array"
   ]
  },
  {
   "cell_type": "code",
   "execution_count": 3,
   "id": "39c4b910",
   "metadata": {},
   "outputs": [
    {
     "name": "stdout",
     "output_type": "stream",
     "text": [
      "[1 2 3]\n",
      "3\n"
     ]
    }
   ],
   "source": [
    "k=np.array([1, 2, 3])  #Array with Rank 1\n",
    "print(k)\n",
    "print(len(k))"
   ]
  },
  {
   "cell_type": "code",
   "execution_count": 31,
   "id": "17f81116",
   "metadata": {},
   "outputs": [
    {
     "data": {
      "text/plain": [
       "array([[1, 2, 3],\n",
       "       [4, 5, 6]])"
      ]
     },
     "execution_count": 31,
     "metadata": {},
     "output_type": "execute_result"
    }
   ],
   "source": [
    "np.array([[1, 2, 3],[4, 5, 6]])            #Array with Rank 2"
   ]
  },
  {
   "cell_type": "code",
   "execution_count": 32,
   "id": "0c83630a",
   "metadata": {},
   "outputs": [
    {
     "data": {
      "text/plain": [
       "array([1, 3, 2])"
      ]
     },
     "execution_count": 32,
     "metadata": {},
     "output_type": "execute_result"
    }
   ],
   "source": [
    "np.array((1, 3, 2)) #Array created using tuple"
   ]
  },
  {
   "cell_type": "code",
   "execution_count": 2,
   "id": "b8839611",
   "metadata": {},
   "outputs": [
    {
     "name": "stdout",
     "output_type": "stream",
     "text": [
      "(4, 4)\n",
      "16\n",
      "4\n"
     ]
    }
   ],
   "source": [
    "k=np.array([[-1, 2, 0, 4],[4, -0.5, 6, 0],\n",
    "          [2.6, 0, 7, 8],[3, -7, 4, 2.0]],dtype=int)\n",
    "print(k.shape)\n",
    "print(k.size)\n",
    "print(len(k))"
   ]
  },
  {
   "cell_type": "code",
   "execution_count": 34,
   "id": "14cb72be",
   "metadata": {},
   "outputs": [
    {
     "data": {
      "text/plain": [
       "array(5)"
      ]
     },
     "execution_count": 34,
     "metadata": {},
     "output_type": "execute_result"
    }
   ],
   "source": [
    "x=np.array(5)\n",
    "x"
   ]
  },
  {
   "cell_type": "code",
   "execution_count": 35,
   "id": "76e567d4",
   "metadata": {},
   "outputs": [],
   "source": [
    "# to find ndim array"
   ]
  },
  {
   "cell_type": "code",
   "execution_count": 36,
   "id": "d094f152",
   "metadata": {},
   "outputs": [
    {
     "data": {
      "text/plain": [
       "0"
      ]
     },
     "execution_count": 36,
     "metadata": {},
     "output_type": "execute_result"
    }
   ],
   "source": [
    "x.ndim"
   ]
  },
  {
   "cell_type": "code",
   "execution_count": 37,
   "id": "f0276b83",
   "metadata": {},
   "outputs": [],
   "source": [
    "x=np.array([5])"
   ]
  },
  {
   "cell_type": "code",
   "execution_count": 38,
   "id": "59ca799f",
   "metadata": {},
   "outputs": [
    {
     "data": {
      "text/plain": [
       "1"
      ]
     },
     "execution_count": 38,
     "metadata": {},
     "output_type": "execute_result"
    }
   ],
   "source": [
    "x.ndim"
   ]
  },
  {
   "cell_type": "code",
   "execution_count": 39,
   "id": "2bc614e9",
   "metadata": {},
   "outputs": [
    {
     "data": {
      "text/plain": [
       "2"
      ]
     },
     "execution_count": 39,
     "metadata": {},
     "output_type": "execute_result"
    }
   ],
   "source": [
    "x=np.array([[5]])\n",
    "x.ndim"
   ]
  },
  {
   "cell_type": "code",
   "execution_count": 40,
   "id": "2efca848",
   "metadata": {},
   "outputs": [
    {
     "data": {
      "text/plain": [
       "2"
      ]
     },
     "execution_count": 40,
     "metadata": {},
     "output_type": "execute_result"
    }
   ],
   "source": [
    "x=np.array([[5],[3]])\n",
    "x.ndim"
   ]
  },
  {
   "cell_type": "code",
   "execution_count": 41,
   "id": "fa1756a0",
   "metadata": {},
   "outputs": [
    {
     "data": {
      "text/plain": [
       "3"
      ]
     },
     "execution_count": 41,
     "metadata": {},
     "output_type": "execute_result"
    }
   ],
   "source": [
    "x=np.array([[[5],[3],[6]]])\n",
    "x.ndim"
   ]
  },
  {
   "cell_type": "code",
   "execution_count": 42,
   "id": "589c5ed7",
   "metadata": {},
   "outputs": [],
   "source": [
    "# len of array"
   ]
  },
  {
   "cell_type": "code",
   "execution_count": 43,
   "id": "2b12e50b",
   "metadata": {},
   "outputs": [
    {
     "data": {
      "text/plain": [
       "5"
      ]
     },
     "execution_count": 43,
     "metadata": {},
     "output_type": "execute_result"
    }
   ],
   "source": [
    "y=np.array([5,4,3,2,1])\n",
    "len(y)"
   ]
  },
  {
   "cell_type": "code",
   "execution_count": 44,
   "id": "ccc03940",
   "metadata": {},
   "outputs": [
    {
     "data": {
      "text/plain": [
       "array([[[[6.]]]])"
      ]
     },
     "execution_count": 44,
     "metadata": {},
     "output_type": "execute_result"
    }
   ],
   "source": [
    "k=np.array(6,dtype=float,ndmin=4)\n",
    "k"
   ]
  },
  {
   "cell_type": "code",
   "execution_count": 45,
   "id": "5cf0242b",
   "metadata": {},
   "outputs": [
    {
     "data": {
      "text/plain": [
       "array([1, 2, 3, 4, 5])"
      ]
     },
     "execution_count": 45,
     "metadata": {},
     "output_type": "execute_result"
    }
   ],
   "source": [
    "x=np.array([1,2,3,4,5])\n",
    "x"
   ]
  },
  {
   "cell_type": "code",
   "execution_count": 46,
   "id": "2b9d1ce0",
   "metadata": {},
   "outputs": [
    {
     "data": {
      "text/plain": [
       "array([1. , 2. , 3.3, 4. , 5. ])"
      ]
     },
     "execution_count": 46,
     "metadata": {},
     "output_type": "execute_result"
    }
   ],
   "source": [
    "x=np.array([1,2,3.3,4,5])\n",
    "x"
   ]
  },
  {
   "cell_type": "code",
   "execution_count": 47,
   "id": "a6377970",
   "metadata": {},
   "outputs": [
    {
     "data": {
      "text/plain": [
       "array([1. +0.j, 2. +0.j, 3.3+0.j, 4. +2.j, 5. +0.j])"
      ]
     },
     "execution_count": 47,
     "metadata": {},
     "output_type": "execute_result"
    }
   ],
   "source": [
    "x=np.array([1,2,3.3,4+2j,5])\n",
    "x"
   ]
  },
  {
   "cell_type": "code",
   "execution_count": 48,
   "id": "dc8f31ea",
   "metadata": {},
   "outputs": [
    {
     "data": {
      "text/plain": [
       "array(['1', '2', '3.3', '(4+2j)', '5', 'a'], dtype='<U64')"
      ]
     },
     "execution_count": 48,
     "metadata": {},
     "output_type": "execute_result"
    }
   ],
   "source": [
    "x=np.array([1,2,3.3,4+2j,5,'a'])\n",
    "x"
   ]
  },
  {
   "cell_type": "code",
   "execution_count": 49,
   "id": "2160c839",
   "metadata": {},
   "outputs": [],
   "source": [
    "# shape"
   ]
  },
  {
   "cell_type": "code",
   "execution_count": 50,
   "id": "eff84cb6",
   "metadata": {},
   "outputs": [
    {
     "data": {
      "text/plain": [
       "array([[  1,   2,   3,   4,   5,   6,   7,   8,   9,  10,  11,  12,  13,\n",
       "         14,  15,  16,  17,  18,  19,  20,  21,  22,  23,  24,  25,  26,\n",
       "         27,  28,  29,  30,  31,  32,  33,  34,  35,  36,  37,  38,  39,\n",
       "         40,  41,  42,  43,  44,  45,  46,  47,  48,  49,  50,  51,  52,\n",
       "         53,  54,  55,  56,  57,  58,  59,  60,  61,  62,  63,  64,  65,\n",
       "         66,  67,  68,  69,  70,  71,  72,  73,  74,  75,  76,  77,  78,\n",
       "         79,  80,  81,  82,  83,  84,  85,  86,  87,  88,  89,  90,  91,\n",
       "         92,  93,  94,  95,  96,  97,  98,  99, 100]])"
      ]
     },
     "execution_count": 50,
     "metadata": {},
     "output_type": "execute_result"
    }
   ],
   "source": [
    "import numpy as np\n",
    "x=np.arange(1,101) \n",
    "x.shape=1,100\n",
    "x"
   ]
  },
  {
   "cell_type": "code",
   "execution_count": 51,
   "id": "7ed51f42",
   "metadata": {},
   "outputs": [
    {
     "data": {
      "text/plain": [
       "(5,)"
      ]
     },
     "execution_count": 51,
     "metadata": {},
     "output_type": "execute_result"
    }
   ],
   "source": [
    "x=np.array([1,2,3,4,5])\n",
    "x.shape"
   ]
  },
  {
   "cell_type": "code",
   "execution_count": 52,
   "id": "0e587bb4",
   "metadata": {},
   "outputs": [
    {
     "data": {
      "text/plain": [
       "(1, 3)"
      ]
     },
     "execution_count": 52,
     "metadata": {},
     "output_type": "execute_result"
    }
   ],
   "source": [
    "x=np.array([[1,2,3]])\n",
    "x.shape"
   ]
  },
  {
   "cell_type": "code",
   "execution_count": 53,
   "id": "32632b0e",
   "metadata": {},
   "outputs": [
    {
     "name": "stdout",
     "output_type": "stream",
     "text": [
      "(3, 3)\n",
      "2\n"
     ]
    }
   ],
   "source": [
    "x=np.array([[1,2,3],[4,5,6],[7,8,9]])\n",
    "print(x.shape)\n",
    "print(x.ndim)"
   ]
  },
  {
   "cell_type": "code",
   "execution_count": 54,
   "id": "c6cbce65",
   "metadata": {},
   "outputs": [
    {
     "name": "stdout",
     "output_type": "stream",
     "text": [
      "(1, 3, 3)\n",
      "3\n"
     ]
    }
   ],
   "source": [
    "x=np.array([[[1,2,3],[4,5,6],[7,8,9]]])\n",
    "print(x.shape)\n",
    "print(x.ndim)"
   ]
  },
  {
   "cell_type": "code",
   "execution_count": 55,
   "id": "d8b636f6",
   "metadata": {},
   "outputs": [],
   "source": [
    "# shape of a 3dim array will return a depth rows and columns"
   ]
  },
  {
   "cell_type": "code",
   "execution_count": 56,
   "id": "89d868f2",
   "metadata": {},
   "outputs": [
    {
     "data": {
      "text/plain": [
       "(1, 1, 3)"
      ]
     },
     "execution_count": 56,
     "metadata": {},
     "output_type": "execute_result"
    }
   ],
   "source": [
    "x=np.array([[[1,2,3]]])\n",
    "x.shape"
   ]
  },
  {
   "cell_type": "code",
   "execution_count": 57,
   "id": "df8572ec",
   "metadata": {},
   "outputs": [
    {
     "data": {
      "text/plain": [
       "array([[1, 2, 3],\n",
       "       [4, 5, 6]])"
      ]
     },
     "execution_count": 57,
     "metadata": {},
     "output_type": "execute_result"
    }
   ],
   "source": [
    "z=np.array([[1,2,3],[4,5,6]])\n",
    "z"
   ]
  },
  {
   "cell_type": "code",
   "execution_count": 58,
   "id": "ff9987b3",
   "metadata": {},
   "outputs": [
    {
     "data": {
      "text/plain": [
       "(2, 3)"
      ]
     },
     "execution_count": 58,
     "metadata": {},
     "output_type": "execute_result"
    }
   ],
   "source": [
    "z.shape"
   ]
  },
  {
   "cell_type": "code",
   "execution_count": 59,
   "id": "13a050fe",
   "metadata": {},
   "outputs": [
    {
     "data": {
      "text/plain": [
       "(3, 3)"
      ]
     },
     "execution_count": 59,
     "metadata": {},
     "output_type": "execute_result"
    }
   ],
   "source": [
    "y=np.array([[1,2,4],[3,6,4],[5,10,6]])\n",
    "y.shape"
   ]
  },
  {
   "cell_type": "code",
   "execution_count": 60,
   "id": "ba342d45",
   "metadata": {},
   "outputs": [],
   "source": [
    "# Zero"
   ]
  },
  {
   "cell_type": "code",
   "execution_count": 61,
   "id": "316e1a9e",
   "metadata": {},
   "outputs": [
    {
     "data": {
      "text/plain": [
       "array([[0., 0., 0.],\n",
       "       [0., 0., 0.]])"
      ]
     },
     "execution_count": 61,
     "metadata": {},
     "output_type": "execute_result"
    }
   ],
   "source": [
    "np.zeros((2,3)) # 2,3 indicates the rows and colmns"
   ]
  },
  {
   "cell_type": "code",
   "execution_count": 62,
   "id": "f491b19e",
   "metadata": {},
   "outputs": [
    {
     "data": {
      "text/plain": [
       "array([0, 0, 0, 0, 0, 0, 0, 0, 0, 0])"
      ]
     },
     "execution_count": 62,
     "metadata": {},
     "output_type": "execute_result"
    }
   ],
   "source": [
    "np.zeros((10,),dtype=int)"
   ]
  },
  {
   "cell_type": "code",
   "execution_count": 63,
   "id": "6b0950e1",
   "metadata": {},
   "outputs": [],
   "source": [
    "# full"
   ]
  },
  {
   "cell_type": "code",
   "execution_count": 64,
   "id": "3e0204e9",
   "metadata": {},
   "outputs": [
    {
     "data": {
      "text/plain": [
       "array([[11, 11, 11, 11, 11],\n",
       "       [11, 11, 11, 11, 11],\n",
       "       [11, 11, 11, 11, 11]])"
      ]
     },
     "execution_count": 64,
     "metadata": {},
     "output_type": "execute_result"
    }
   ],
   "source": [
    "np.full((3,5),11) #3,5 tell rows and colums and 11 indicate the value to be filled by"
   ]
  },
  {
   "cell_type": "code",
   "execution_count": 65,
   "id": "f9177c71",
   "metadata": {},
   "outputs": [],
   "source": [
    "# eye -> gives the Identity Matrix(diagonal valuse be 1's)"
   ]
  },
  {
   "cell_type": "code",
   "execution_count": 66,
   "id": "0b0c7c07",
   "metadata": {},
   "outputs": [
    {
     "data": {
      "text/plain": [
       "array([[1., 0., 0.],\n",
       "       [0., 1., 0.],\n",
       "       [0., 0., 1.]])"
      ]
     },
     "execution_count": 66,
     "metadata": {},
     "output_type": "execute_result"
    }
   ],
   "source": [
    "np.eye(3,3) # diagonal valus becomes 1 and remaining values are zeros"
   ]
  },
  {
   "cell_type": "code",
   "execution_count": 67,
   "id": "53703a4e",
   "metadata": {},
   "outputs": [
    {
     "data": {
      "text/plain": [
       "array([[1., 0., 0., 0., 0.],\n",
       "       [0., 1., 0., 0., 0.],\n",
       "       [0., 0., 1., 0., 0.],\n",
       "       [0., 0., 0., 1., 0.],\n",
       "       [0., 0., 0., 0., 1.]])"
      ]
     },
     "execution_count": 67,
     "metadata": {},
     "output_type": "execute_result"
    }
   ],
   "source": [
    "np.eye(5)"
   ]
  },
  {
   "cell_type": "code",
   "execution_count": 5,
   "id": "f3bf8c13",
   "metadata": {},
   "outputs": [
    {
     "data": {
      "text/plain": [
       "array([[0., 1., 0., 0., 0., 0.],\n",
       "       [0., 0., 1., 0., 0., 0.],\n",
       "       [0., 0., 0., 1., 0., 0.],\n",
       "       [0., 0., 0., 0., 1., 0.],\n",
       "       [0., 0., 0., 0., 0., 1.],\n",
       "       [0., 0., 0., 0., 0., 0.]])"
      ]
     },
     "execution_count": 5,
     "metadata": {},
     "output_type": "execute_result"
    }
   ],
   "source": [
    "np.eye(6,k=1)    # for upper diagonal matrix"
   ]
  },
  {
   "cell_type": "code",
   "execution_count": 6,
   "id": "e4efa44c",
   "metadata": {},
   "outputs": [
    {
     "data": {
      "text/plain": [
       "array([[0., 0., 0., 0., 0., 0.],\n",
       "       [1., 0., 0., 0., 0., 0.],\n",
       "       [0., 1., 0., 0., 0., 0.],\n",
       "       [0., 0., 1., 0., 0., 0.],\n",
       "       [0., 0., 0., 1., 0., 0.],\n",
       "       [0., 0., 0., 0., 1., 0.]])"
      ]
     },
     "execution_count": 6,
     "metadata": {},
     "output_type": "execute_result"
    }
   ],
   "source": [
    "np.eye(6,k=-1)  # for lower diagonal matrix"
   ]
  },
  {
   "cell_type": "code",
   "execution_count": 68,
   "id": "65d7e1ca",
   "metadata": {},
   "outputs": [],
   "source": [
    "# type()"
   ]
  },
  {
   "cell_type": "code",
   "execution_count": 69,
   "id": "c4ae6be2",
   "metadata": {},
   "outputs": [
    {
     "data": {
      "text/plain": [
       "numpy.ndarray"
      ]
     },
     "execution_count": 69,
     "metadata": {},
     "output_type": "execute_result"
    }
   ],
   "source": [
    "x=np.array([[[10]]])\n",
    "type(x)"
   ]
  },
  {
   "cell_type": "code",
   "execution_count": 70,
   "id": "e763e680",
   "metadata": {},
   "outputs": [],
   "source": [
    "# diag"
   ]
  },
  {
   "cell_type": "code",
   "execution_count": 71,
   "id": "5f6beb9f",
   "metadata": {},
   "outputs": [
    {
     "data": {
      "text/plain": [
       "array([[1, 0],\n",
       "       [0, 2]])"
      ]
     },
     "execution_count": 71,
     "metadata": {},
     "output_type": "execute_result"
    }
   ],
   "source": [
    "np.diag([1,2])"
   ]
  },
  {
   "cell_type": "code",
   "execution_count": 72,
   "id": "59a7d42f",
   "metadata": {},
   "outputs": [
    {
     "data": {
      "text/plain": [
       "array([[1, 0, 0, 0, 0, 0, 0],\n",
       "       [0, 2, 0, 0, 0, 0, 0],\n",
       "       [0, 0, 3, 0, 0, 0, 0],\n",
       "       [0, 0, 0, 4, 0, 0, 0],\n",
       "       [0, 0, 0, 0, 5, 0, 0],\n",
       "       [0, 0, 0, 0, 0, 6, 0],\n",
       "       [0, 0, 0, 0, 0, 0, 7]])"
      ]
     },
     "execution_count": 72,
     "metadata": {},
     "output_type": "execute_result"
    }
   ],
   "source": [
    "np.diag([1,2,3,4,5,6,7])"
   ]
  },
  {
   "cell_type": "code",
   "execution_count": 73,
   "id": "6cee48bf",
   "metadata": {},
   "outputs": [],
   "source": [
    "# arange ---> gives the output in  1dim"
   ]
  },
  {
   "cell_type": "code",
   "execution_count": 74,
   "id": "c1d81e21",
   "metadata": {},
   "outputs": [
    {
     "data": {
      "text/plain": [
       "array([0, 1, 2, 3, 4, 5, 6, 7])"
      ]
     },
     "execution_count": 74,
     "metadata": {},
     "output_type": "execute_result"
    }
   ],
   "source": [
    "np.arange(8)"
   ]
  },
  {
   "cell_type": "code",
   "execution_count": 75,
   "id": "590a9a66",
   "metadata": {},
   "outputs": [
    {
     "data": {
      "text/plain": [
       "array([100, 101, 102, 103, 104, 105, 106, 107, 108, 109])"
      ]
     },
     "execution_count": 75,
     "metadata": {},
     "output_type": "execute_result"
    }
   ],
   "source": [
    "np.arange(100,110)"
   ]
  },
  {
   "cell_type": "code",
   "execution_count": 76,
   "id": "53741c20",
   "metadata": {},
   "outputs": [
    {
     "data": {
      "text/plain": [
       "array([ 1,  3,  5,  7,  9, 11, 13, 15, 17, 19])"
      ]
     },
     "execution_count": 76,
     "metadata": {},
     "output_type": "execute_result"
    }
   ],
   "source": [
    "np.arange(1,20,2)"
   ]
  },
  {
   "cell_type": "code",
   "execution_count": 77,
   "id": "cd40cb62",
   "metadata": {},
   "outputs": [
    {
     "data": {
      "text/plain": [
       "array([1, 5, 9])"
      ]
     },
     "execution_count": 77,
     "metadata": {},
     "output_type": "execute_result"
    }
   ],
   "source": [
    "np.arange(1,10,4)"
   ]
  },
  {
   "cell_type": "code",
   "execution_count": 78,
   "id": "31cf77f5",
   "metadata": {},
   "outputs": [
    {
     "data": {
      "text/plain": [
       "array([1, 2, 3, 4, 5, 6, 7, 8, 9])"
      ]
     },
     "execution_count": 78,
     "metadata": {},
     "output_type": "execute_result"
    }
   ],
   "source": [
    "np.arange(1,10,1)"
   ]
  },
  {
   "cell_type": "code",
   "execution_count": 79,
   "id": "9b9fd091",
   "metadata": {},
   "outputs": [],
   "source": [
    "# linspace -> Splits the given range of values into given linspae value and,\n",
    "#gives the one dimen array including end value."
   ]
  },
  {
   "cell_type": "code",
   "execution_count": null,
   "id": "c413858b",
   "metadata": {},
   "outputs": [],
   "source": [
    "# linspace(startvalue,endvalue,num,endpoint=True/False,retstep,dtype)\n",
    "# num-> num used to split the range into n number of times\n",
    "# endpoint=True/False used to include the endvalue or not.\n",
    "# retstep= will give difference between the elements and return in a tupple. \n",
    "#detault it will be flase"
   ]
  },
  {
   "cell_type": "code",
   "execution_count": 9,
   "id": "c6c6798d",
   "metadata": {},
   "outputs": [
    {
     "data": {
      "text/plain": [
       "array([ 0.        ,  0.20408163,  0.40816327,  0.6122449 ,  0.81632653,\n",
       "        1.02040816,  1.2244898 ,  1.42857143,  1.63265306,  1.83673469,\n",
       "        2.04081633,  2.24489796,  2.44897959,  2.65306122,  2.85714286,\n",
       "        3.06122449,  3.26530612,  3.46938776,  3.67346939,  3.87755102,\n",
       "        4.08163265,  4.28571429,  4.48979592,  4.69387755,  4.89795918,\n",
       "        5.10204082,  5.30612245,  5.51020408,  5.71428571,  5.91836735,\n",
       "        6.12244898,  6.32653061,  6.53061224,  6.73469388,  6.93877551,\n",
       "        7.14285714,  7.34693878,  7.55102041,  7.75510204,  7.95918367,\n",
       "        8.16326531,  8.36734694,  8.57142857,  8.7755102 ,  8.97959184,\n",
       "        9.18367347,  9.3877551 ,  9.59183673,  9.79591837, 10.        ])"
      ]
     },
     "execution_count": 9,
     "metadata": {},
     "output_type": "execute_result"
    }
   ],
   "source": [
    "np.linspace(0,10)  # num-> by default if you not mention num it will return you 50 vales. with including the end value."
   ]
  },
  {
   "cell_type": "code",
   "execution_count": 12,
   "id": "7381dd0b",
   "metadata": {},
   "outputs": [
    {
     "data": {
      "text/plain": [
       "(array([0., 1., 2., 3., 4., 5., 6., 7., 8., 9.]), 1.0)"
      ]
     },
     "execution_count": 12,
     "metadata": {},
     "output_type": "execute_result"
    }
   ],
   "source": [
    "np.linspace(0,10,10,endpoint=False,retstep=True)  # hear 1.0 is the retstep."
   ]
  },
  {
   "cell_type": "code",
   "execution_count": 8,
   "id": "cf09dab4",
   "metadata": {},
   "outputs": [
    {
     "data": {
      "text/plain": [
       "array([ 1.,  2.,  3.,  4.,  5.,  6.,  7.,  8.,  9., 10.])"
      ]
     },
     "execution_count": 8,
     "metadata": {},
     "output_type": "execute_result"
    }
   ],
   "source": [
    "np.linspace(1,10,10)"
   ]
  },
  {
   "cell_type": "code",
   "execution_count": 80,
   "id": "114c5804",
   "metadata": {},
   "outputs": [
    {
     "data": {
      "text/plain": [
       "array([ 1. ,  1.9,  2.8,  3.7,  4.6,  5.5,  6.4,  7.3,  8.2,  9.1, 10. ])"
      ]
     },
     "execution_count": 80,
     "metadata": {},
     "output_type": "execute_result"
    }
   ],
   "source": [
    "np.linspace(1,10,11) # 11 indicates the number of parts to split into with in the given range."
   ]
  },
  {
   "cell_type": "code",
   "execution_count": 81,
   "id": "53c0626a",
   "metadata": {},
   "outputs": [
    {
     "data": {
      "text/plain": [
       "array([ 1. ,  2.5,  4. ,  5.5,  7. ,  8.5, 10. ])"
      ]
     },
     "execution_count": 81,
     "metadata": {},
     "output_type": "execute_result"
    }
   ],
   "source": [
    "np.linspace(1,10,7) # 7 indicates the number of parts to split into."
   ]
  },
  {
   "cell_type": "code",
   "execution_count": 83,
   "id": "250f898d",
   "metadata": {},
   "outputs": [
    {
     "data": {
      "text/plain": [
       "array([  1.,  12.,  23.,  34.,  45.,  56.,  67.,  78.,  89., 100.])"
      ]
     },
     "execution_count": 83,
     "metadata": {},
     "output_type": "execute_result"
    }
   ],
   "source": [
    "np.linspace(1,100,10) # 1-dim array"
   ]
  },
  {
   "cell_type": "code",
   "execution_count": 4,
   "id": "17e62f46",
   "metadata": {},
   "outputs": [],
   "source": [
    "# rand"
   ]
  },
  {
   "cell_type": "code",
   "execution_count": 9,
   "id": "be72b855",
   "metadata": {},
   "outputs": [
    {
     "data": {
      "text/plain": [
       "array([[0.19285681, 0.9367124 , 0.59192954],\n",
       "       [0.32178494, 0.02684489, 0.51054093]])"
      ]
     },
     "execution_count": 9,
     "metadata": {},
     "output_type": "execute_result"
    }
   ],
   "source": [
    "x=np.random.rand(2,3)\n",
    "x"
   ]
  },
  {
   "cell_type": "code",
   "execution_count": 7,
   "id": "ffdc0e18",
   "metadata": {},
   "outputs": [
    {
     "data": {
      "text/plain": [
       "array([0.82765727, 0.01841591, 0.55106983, 0.13039765, 0.87714886])"
      ]
     },
     "execution_count": 7,
     "metadata": {},
     "output_type": "execute_result"
    }
   ],
   "source": [
    "x=np.random.rand(5)\n",
    "x"
   ]
  },
  {
   "cell_type": "code",
   "execution_count": 5,
   "id": "2d4c4f5b",
   "metadata": {},
   "outputs": [
    {
     "data": {
      "text/plain": [
       "array([ 1.30551075,  0.16190184,  0.46979984,  1.60288256, -0.61158701])"
      ]
     },
     "execution_count": 5,
     "metadata": {},
     "output_type": "execute_result"
    }
   ],
   "source": [
    "x=np.random.randn(5)\n",
    "x"
   ]
  },
  {
   "cell_type": "code",
   "execution_count": 4,
   "id": "31b27993",
   "metadata": {},
   "outputs": [
    {
     "data": {
      "text/plain": [
       "array([[-0.59976623,  2.02611218, -0.95627211],\n",
       "       [-0.48167074,  0.17235835,  0.10260041]])"
      ]
     },
     "execution_count": 4,
     "metadata": {},
     "output_type": "execute_result"
    }
   ],
   "source": [
    "x=np.random.randn(2,3)\n",
    "x"
   ]
  },
  {
   "cell_type": "code",
   "execution_count": 84,
   "id": "d6ca5e04",
   "metadata": {},
   "outputs": [],
   "source": [
    "# random.random"
   ]
  },
  {
   "cell_type": "code",
   "execution_count": 85,
   "id": "42eadd93",
   "metadata": {},
   "outputs": [
    {
     "data": {
      "text/plain": [
       "array([[0.85520697, 0.9411633 , 0.66976822, 0.40872293],\n",
       "       [0.13214575, 0.5238494 , 0.81261979, 0.60540436],\n",
       "       [0.62096035, 0.81093004, 0.70049547, 0.82823529],\n",
       "       [0.2775455 , 0.4434226 , 0.57990431, 0.6810408 ]])"
      ]
     },
     "execution_count": 85,
     "metadata": {},
     "output_type": "execute_result"
    }
   ],
   "source": [
    "np.random.random((4,4))"
   ]
  },
  {
   "cell_type": "code",
   "execution_count": 86,
   "id": "c686931c",
   "metadata": {},
   "outputs": [
    {
     "data": {
      "text/plain": [
       "2"
      ]
     },
     "execution_count": 86,
     "metadata": {},
     "output_type": "execute_result"
    }
   ],
   "source": [
    "x=np.random.random((4,4))\n",
    "x.ndim"
   ]
  },
  {
   "cell_type": "code",
   "execution_count": 87,
   "id": "0722e4bd",
   "metadata": {},
   "outputs": [
    {
     "data": {
      "text/plain": [
       "array([[0.36207517, 0.35282481, 0.50319342, 0.25258731],\n",
       "       [0.70797689, 0.81450164, 0.75466285, 0.84504533],\n",
       "       [0.91347934, 0.15759385, 0.50842173, 0.28687115]])"
      ]
     },
     "execution_count": 87,
     "metadata": {},
     "output_type": "execute_result"
    }
   ],
   "source": [
    "np.random.random((3,4)) # for 2dim array"
   ]
  },
  {
   "cell_type": "code",
   "execution_count": 88,
   "id": "791e7e27",
   "metadata": {},
   "outputs": [
    {
     "data": {
      "text/plain": [
       "array([0.22644861, 0.28233732, 0.88521805, 0.4743242 , 0.17281965,\n",
       "       0.88965867, 0.17780711, 0.63488664, 0.64910843, 0.17195972,\n",
       "       0.35416918, 0.69501056, 0.57741176, 0.12303932, 0.76398081,\n",
       "       0.66805584, 0.41239419, 0.97056665, 0.62439918, 0.74787467])"
      ]
     },
     "execution_count": 88,
     "metadata": {},
     "output_type": "execute_result"
    }
   ],
   "source": [
    "np.random.random((20,)) # for 1dim array"
   ]
  },
  {
   "cell_type": "code",
   "execution_count": 89,
   "id": "3fd17d9b",
   "metadata": {},
   "outputs": [
    {
     "data": {
      "text/plain": [
       "array([[0.80709923, 0.55386866, 0.35885804, 0.55566565, 0.84080341],\n",
       "       [0.70617031, 0.21502206, 0.89227575, 0.21520533, 0.37260697],\n",
       "       [0.33159907, 0.71731293, 0.09465979, 0.60735975, 0.03732994],\n",
       "       [0.15217119, 0.10611561, 0.57981584, 0.1617158 , 0.41653337],\n",
       "       [0.55405488, 0.31583233, 0.24231957, 0.10610132, 0.15799406]])"
      ]
     },
     "execution_count": 89,
     "metadata": {},
     "output_type": "execute_result"
    }
   ],
   "source": [
    "np.random.random((5,5))"
   ]
  },
  {
   "cell_type": "code",
   "execution_count": 90,
   "id": "37927a0c",
   "metadata": {},
   "outputs": [],
   "source": [
    "# Slicing"
   ]
  },
  {
   "cell_type": "code",
   "execution_count": 91,
   "id": "351e9239",
   "metadata": {},
   "outputs": [
    {
     "data": {
      "text/plain": [
       "array([[1, 2, 3],\n",
       "       [4, 5, 6],\n",
       "       [7, 8, 9]])"
      ]
     },
     "execution_count": 91,
     "metadata": {},
     "output_type": "execute_result"
    }
   ],
   "source": [
    "x=np.array([[1,2,3],[4,5,6],[7,8,9]])\n",
    "x"
   ]
  },
  {
   "cell_type": "code",
   "execution_count": 92,
   "id": "3f5c8f66",
   "metadata": {},
   "outputs": [],
   "source": [
    "# Slicing Based Indexing"
   ]
  },
  {
   "cell_type": "code",
   "execution_count": 93,
   "id": "9ee05fc3",
   "metadata": {},
   "outputs": [
    {
     "data": {
      "text/plain": [
       "array([[2, 3],\n",
       "       [5, 6]])"
      ]
     },
     "execution_count": 93,
     "metadata": {},
     "output_type": "execute_result"
    }
   ],
   "source": [
    "x[0:2,1:3] # Slicing Based Indexing"
   ]
  },
  {
   "cell_type": "code",
   "execution_count": 94,
   "id": "f13313bd",
   "metadata": {},
   "outputs": [],
   "source": [
    "arr = np.array([[-1, 2, 0, 4],\n",
    "                [4, -0.5, 6, 0],\n",
    "                [2.6, 0, 7, 8],\n",
    "                [3, -7, 4, 2.0]])"
   ]
  },
  {
   "cell_type": "code",
   "execution_count": 95,
   "id": "30f76b12",
   "metadata": {},
   "outputs": [
    {
     "data": {
      "text/plain": [
       "array([[-1.,  0.],\n",
       "       [ 4.,  6.]])"
      ]
     },
     "execution_count": 95,
     "metadata": {},
     "output_type": "execute_result"
    }
   ],
   "source": [
    "sliced_arr= arr[:2, ::2]  #Array with first 2 rows and\" \" alternate columns(0 and 2):\n",
    "sliced_arr "
   ]
  },
  {
   "cell_type": "code",
   "execution_count": 96,
   "id": "ba57d620",
   "metadata": {},
   "outputs": [],
   "source": [
    " # integer based indexing"
   ]
  },
  {
   "cell_type": "code",
   "execution_count": 97,
   "id": "14ad5dcb",
   "metadata": {},
   "outputs": [
    {
     "name": "stdout",
     "output_type": "stream",
     "text": [
      "[1 2 3 4]\n"
     ]
    },
    {
     "data": {
      "text/plain": [
       "1"
      ]
     },
     "execution_count": 97,
     "metadata": {},
     "output_type": "execute_result"
    }
   ],
   "source": [
    "x1=np.arange(1,5)\n",
    "print(x1)\n",
    "x1[0]               # integer based indexing"
   ]
  },
  {
   "cell_type": "code",
   "execution_count": 98,
   "id": "8713158f",
   "metadata": {},
   "outputs": [
    {
     "data": {
      "text/plain": [
       "array([2, 3])"
      ]
     },
     "execution_count": 98,
     "metadata": {},
     "output_type": "execute_result"
    }
   ],
   "source": [
    "x1[1:3]\n"
   ]
  },
  {
   "cell_type": "code",
   "execution_count": 99,
   "id": "69257056",
   "metadata": {},
   "outputs": [
    {
     "name": "stdout",
     "output_type": "stream",
     "text": [
      "[[1 2 3]\n",
      " [4 5 6]\n",
      " [7 8 9]]\n"
     ]
    },
    {
     "data": {
      "text/plain": [
       "1"
      ]
     },
     "execution_count": 99,
     "metadata": {},
     "output_type": "execute_result"
    }
   ],
   "source": [
    "x=np.array([[1,2,3],[4,5,6],[7,8,9]])\n",
    "print(x)\n",
    "x[0,0]"
   ]
  },
  {
   "cell_type": "code",
   "execution_count": 100,
   "id": "9fd0488d",
   "metadata": {},
   "outputs": [
    {
     "data": {
      "text/plain": [
       "array([[1, 2, 3],\n",
       "       [4, 5, 6],\n",
       "       [7, 8, 9]])"
      ]
     },
     "execution_count": 100,
     "metadata": {},
     "output_type": "execute_result"
    }
   ],
   "source": [
    "x=np.array([[1,2,3],[4,5,6],[7,8,9]])\n",
    "x"
   ]
  },
  {
   "cell_type": "code",
   "execution_count": 101,
   "id": "ba78700d",
   "metadata": {},
   "outputs": [],
   "source": [
    "Index_arr = arr[[1, 1, 0, 3], \n",
    "                [3, 2, 1, 0]]   #Elements at indices (1, 3), \"  \"(1, 2), (0, 1), (3, 0)"
   ]
  },
  {
   "cell_type": "code",
   "execution_count": 102,
   "id": "03acf1b4",
   "metadata": {},
   "outputs": [
    {
     "data": {
      "text/plain": [
       "array([0., 6., 2., 3.])"
      ]
     },
     "execution_count": 102,
     "metadata": {},
     "output_type": "execute_result"
    }
   ],
   "source": [
    "Index_arr "
   ]
  },
  {
   "cell_type": "code",
   "execution_count": 103,
   "id": "3dcc2729",
   "metadata": {},
   "outputs": [
    {
     "data": {
      "text/plain": [
       "array([[5, 6],\n",
       "       [8, 9]])"
      ]
     },
     "execution_count": 103,
     "metadata": {},
     "output_type": "execute_result"
    }
   ],
   "source": [
    "y=x[1:,1:] # in Slicing base indexing, if you change the sub array the original array will also effected by the newvalue\n",
    "y"
   ]
  },
  {
   "cell_type": "code",
   "execution_count": 104,
   "id": "ffa04b11",
   "metadata": {},
   "outputs": [],
   "source": [
    "y[0,0]=100"
   ]
  },
  {
   "cell_type": "code",
   "execution_count": 105,
   "id": "677b8bce",
   "metadata": {},
   "outputs": [
    {
     "data": {
      "text/plain": [
       "array([[100,   6],\n",
       "       [  8,   9]])"
      ]
     },
     "execution_count": 105,
     "metadata": {},
     "output_type": "execute_result"
    }
   ],
   "source": [
    "y"
   ]
  },
  {
   "cell_type": "code",
   "execution_count": 106,
   "id": "65e40ec1",
   "metadata": {},
   "outputs": [
    {
     "data": {
      "text/plain": [
       "array([[  1,   2,   3],\n",
       "       [  4, 100,   6],\n",
       "       [  7,   8,   9]])"
      ]
     },
     "execution_count": 106,
     "metadata": {},
     "output_type": "execute_result"
    }
   ],
   "source": [
    "x"
   ]
  },
  {
   "cell_type": "code",
   "execution_count": 107,
   "id": "fdb623dc",
   "metadata": {},
   "outputs": [
    {
     "name": "stdout",
     "output_type": "stream",
     "text": [
      "x= [[0.78420497 0.59016964 0.24288975 0.79829762 0.9928539 ]\n",
      " [0.17858422 0.7628937  0.11433569 0.23526719 0.46059225]\n",
      " [0.66415804 0.70499342 0.39228398 0.08392564 0.04651394]\n",
      " [0.81162857 0.94965688 0.81843381 0.59919612 0.89075665]\n",
      " [0.66597829 0.37807085 0.1922498  0.65573905 0.47023604]]\n",
      "\n",
      "\n",
      "[[0.7628937  0.11433569 0.23526719]\n",
      " [0.70499342 0.39228398 0.08392564]\n",
      " [0.94965688 0.81843381 0.59919612]\n",
      " [0.37807085 0.1922498  0.65573905]]\n"
     ]
    }
   ],
   "source": [
    "x=np.random.random((5,5))\n",
    "print('x=',x)\n",
    "print('\\n')\n",
    "print(x[1:,1:4]) #(1:)-> Rows, (1:4)-> Columns"
   ]
  },
  {
   "cell_type": "code",
   "execution_count": 108,
   "id": "4c2e492b",
   "metadata": {},
   "outputs": [
    {
     "data": {
      "text/plain": [
       "array([[1, 2],\n",
       "       [4, 5]])"
      ]
     },
     "execution_count": 108,
     "metadata": {},
     "output_type": "execute_result"
    }
   ],
   "source": [
    "x=np.array([[1,2,3],[4,5,6],[7,8,9]])\n",
    "y=x[0:2,0:2]\n",
    "y"
   ]
  },
  {
   "cell_type": "code",
   "execution_count": 109,
   "id": "0a289d67",
   "metadata": {},
   "outputs": [
    {
     "name": "stdout",
     "output_type": "stream",
     "text": [
      "[[10  2  3]\n",
      " [ 4  5  6]\n",
      " [ 7  8  9]]\n",
      "\n",
      "\n",
      "[[10  2]\n",
      " [ 4  5]]\n"
     ]
    }
   ],
   "source": [
    "y[0,0]=10\n",
    "print(x)\n",
    "print('\\n')\n",
    "print(y)"
   ]
  },
  {
   "cell_type": "code",
   "execution_count": 110,
   "id": "75b4ee85",
   "metadata": {},
   "outputs": [],
   "source": [
    "#integer based indexing [[row],[cloumn]]\n",
    "# properties \n",
    "# 1----- its also used to get the sub array\n",
    "# 2------ we can access any element in the original array\n",
    "# 3------ its will be a copy of the array (if we change sub array , there will not be any change in original array)\n",
    "# 4 ----- sub array will be lower dimension array (original n dimension---- then sub array is n-1 dimension)\n"
   ]
  },
  {
   "cell_type": "code",
   "execution_count": 111,
   "id": "a07c8f91",
   "metadata": {},
   "outputs": [
    {
     "data": {
      "text/plain": [
       "array([[ 1,  2,  3,  4],\n",
       "       [ 5,  6,  7,  8],\n",
       "       [ 9, 10, 11, 12],\n",
       "       [13, 14, 15, 16]])"
      ]
     },
     "execution_count": 111,
     "metadata": {},
     "output_type": "execute_result"
    }
   ],
   "source": [
    "x=np.array([[1,2,3,4],[5,6,7,8],[9,10,11,12],[13,14,15,16]])\n",
    "x\n"
   ]
  },
  {
   "cell_type": "code",
   "execution_count": 112,
   "id": "87cec49f",
   "metadata": {},
   "outputs": [
    {
     "data": {
      "text/plain": [
       "array([ 6,  7, 10, 11, 14, 15])"
      ]
     },
     "execution_count": 112,
     "metadata": {},
     "output_type": "execute_result"
    }
   ],
   "source": [
    "y=x[[1,1,2,2,3,3],[1,2,1,2,1,2]]\n",
    "y"
   ]
  },
  {
   "cell_type": "code",
   "execution_count": 113,
   "id": "f1bd444f",
   "metadata": {},
   "outputs": [],
   "source": [
    "y[0]=100"
   ]
  },
  {
   "cell_type": "code",
   "execution_count": 114,
   "id": "6a7e8ba7",
   "metadata": {},
   "outputs": [
    {
     "data": {
      "text/plain": [
       "array([100,   7,  10,  11,  14,  15])"
      ]
     },
     "execution_count": 114,
     "metadata": {},
     "output_type": "execute_result"
    }
   ],
   "source": [
    "y"
   ]
  },
  {
   "cell_type": "code",
   "execution_count": 115,
   "id": "0e2ccfbd",
   "metadata": {},
   "outputs": [
    {
     "data": {
      "text/plain": [
       "array([[ 1,  2,  3,  4],\n",
       "       [ 5,  6,  7,  8],\n",
       "       [ 9, 10, 11, 12],\n",
       "       [13, 14, 15, 16]])"
      ]
     },
     "execution_count": 115,
     "metadata": {},
     "output_type": "execute_result"
    }
   ],
   "source": [
    "x"
   ]
  },
  {
   "cell_type": "code",
   "execution_count": 116,
   "id": "1754e062",
   "metadata": {},
   "outputs": [
    {
     "data": {
      "text/plain": [
       "array([[1, 2, 3],\n",
       "       [4, 5, 6],\n",
       "       [7, 8, 9]])"
      ]
     },
     "execution_count": 116,
     "metadata": {},
     "output_type": "execute_result"
    }
   ],
   "source": [
    "x=np.array([[1,2,3],[4,5,6],[7,8,9]])\n",
    "x"
   ]
  },
  {
   "cell_type": "code",
   "execution_count": 117,
   "id": "6b061e31",
   "metadata": {},
   "outputs": [
    {
     "data": {
      "text/plain": [
       "array([1, 8])"
      ]
     },
     "execution_count": 117,
     "metadata": {},
     "output_type": "execute_result"
    }
   ],
   "source": [
    "x[[0,2],[0,1]]   # This is Integer based in dexing so\n",
    "#0,0 is 1 and 2,1 is 8 hear 2nd row 1st column value is 8"
   ]
  },
  {
   "cell_type": "code",
   "execution_count": 118,
   "id": "a05d0af6",
   "metadata": {},
   "outputs": [],
   "source": [
    "# how to apply math operation on array \n"
   ]
  },
  {
   "cell_type": "code",
   "execution_count": 119,
   "id": "3c104c0c",
   "metadata": {},
   "outputs": [
    {
     "name": "stdout",
     "output_type": "stream",
     "text": [
      "[6 6 6 6 6]\n",
      "[-4 -2  0  2  4]\n",
      "[5 8 9 8 5]\n",
      "[0.2 0.5 1.  2.  5. ]\n",
      "[ 1 16 27 16  5]\n"
     ]
    }
   ],
   "source": [
    "# To do the mathematical operations like +,-,*,/,//,** both the arrary lenth shoud be equal\n",
    "x=np.array([1,2,3,4,5]) # 1dim\n",
    "y=np.array([5,4,3,2,1]) # 1dim\n",
    "print(x+y)\n",
    "print(x-y)\n",
    "print(x*y)\n",
    "print(x/y)\n",
    "print(x**y)"
   ]
  },
  {
   "cell_type": "code",
   "execution_count": 120,
   "id": "3826573c",
   "metadata": {},
   "outputs": [
    {
     "name": "stdout",
     "output_type": "stream",
     "text": [
      "Adding 1 to every element: [[2 3]\n",
      " [4 5]]\n",
      "\n",
      "Subtracting 2 from each element: [[ 2  1]\n",
      " [ 0 -1]]\n",
      "\n",
      "Sum of all array elements:  10\n",
      "\n",
      "Array sum:\n",
      " [[5 5]\n",
      " [5 5]]\n"
     ]
    }
   ],
   "source": [
    "a = np.array([[1, 2],[3, 4]])\n",
    "b = np.array([[4, 3],[2, 1]])\n",
    "print(\"Adding 1 to every element:\", a + 1)\n",
    "print (\"\\nSubtracting 2 from each element:\", b - 2)\n",
    "# sum of array elements\n",
    "print (\"\\nSum of all array elements: \", a.sum())\n",
    "# Adding two arrays\n",
    "print (\"\\nArray sum:\\n\", a + b)"
   ]
  },
  {
   "cell_type": "code",
   "execution_count": 121,
   "id": "67834a26",
   "metadata": {},
   "outputs": [
    {
     "name": "stdout",
     "output_type": "stream",
     "text": [
      "Addition of Two Arrays: \n",
      "[[ 7. 13.]\n",
      " [ 4. 14.]]\n"
     ]
    }
   ],
   "source": [
    "arr1 = np.array([[4, 7], [2, 6]],dtype = np.float64)\n",
    "arr2 = np.array([[3, 6], [2, 8]],dtype = np.float64) \n",
    "Sum = np.add(arr1, arr2)\n",
    "print(\"Addition of Two Arrays: \")\n",
    "print(Sum)"
   ]
  },
  {
   "cell_type": "code",
   "execution_count": 122,
   "id": "ca437c9f",
   "metadata": {},
   "outputs": [
    {
     "name": "stdout",
     "output_type": "stream",
     "text": [
      "\n",
      "Addition of Array elements: \n",
      "19.0\n"
     ]
    }
   ],
   "source": [
    "Sum1 = np.sum(arr1)\n",
    "print(\"\\nAddition of Array elements: \")\n",
    "print(Sum1)"
   ]
  },
  {
   "cell_type": "code",
   "execution_count": 123,
   "id": "2e434c1d",
   "metadata": {},
   "outputs": [
    {
     "name": "stdout",
     "output_type": "stream",
     "text": [
      "\n",
      "Square root of Array1 elements: \n",
      "[[2.         2.64575131]\n",
      " [1.41421356 2.44948974]]\n"
     ]
    }
   ],
   "source": [
    "Sqrt = np.sqrt(arr1)\n",
    "print(\"\\nSquare root of Array1 elements: \")\n",
    "print(Sqrt)\n",
    " "
   ]
  },
  {
   "cell_type": "code",
   "execution_count": 125,
   "id": "8b1175d5",
   "metadata": {},
   "outputs": [
    {
     "name": "stdout",
     "output_type": "stream",
     "text": [
      "[ True  True False False False]\n"
     ]
    }
   ],
   "source": [
    "print(x<y)\n"
   ]
  },
  {
   "cell_type": "code",
   "execution_count": 126,
   "id": "fdf9eb84",
   "metadata": {},
   "outputs": [
    {
     "data": {
      "text/plain": [
       "array([False, False, False,  True,  True])"
      ]
     },
     "execution_count": 126,
     "metadata": {},
     "output_type": "execute_result"
    }
   ],
   "source": [
    "x>y"
   ]
  },
  {
   "cell_type": "code",
   "execution_count": 127,
   "id": "6ee8de15",
   "metadata": {},
   "outputs": [
    {
     "data": {
      "text/plain": [
       "array([False, False,  True, False, False])"
      ]
     },
     "execution_count": 127,
     "metadata": {},
     "output_type": "execute_result"
    }
   ],
   "source": [
    "z=x==y\n",
    "z"
   ]
  },
  {
   "cell_type": "code",
   "execution_count": 128,
   "id": "330a7864",
   "metadata": {},
   "outputs": [
    {
     "data": {
      "text/plain": [
       "array([ True,  True, False,  True,  True])"
      ]
     },
     "execution_count": 128,
     "metadata": {},
     "output_type": "execute_result"
    }
   ],
   "source": [
    "x!=y"
   ]
  },
  {
   "cell_type": "code",
   "execution_count": 129,
   "id": "5188985b",
   "metadata": {},
   "outputs": [
    {
     "data": {
      "text/plain": [
       "array([ True,  True,  True, False, False])"
      ]
     },
     "execution_count": 129,
     "metadata": {},
     "output_type": "execute_result"
    }
   ],
   "source": [
    "x<=y"
   ]
  },
  {
   "cell_type": "code",
   "execution_count": 130,
   "id": "92c59658",
   "metadata": {},
   "outputs": [
    {
     "data": {
      "text/plain": [
       "array([False, False,  True,  True,  True])"
      ]
     },
     "execution_count": 130,
     "metadata": {},
     "output_type": "execute_result"
    }
   ],
   "source": [
    "x>=y"
   ]
  },
  {
   "cell_type": "code",
   "execution_count": 131,
   "id": "659e50f6",
   "metadata": {},
   "outputs": [
    {
     "data": {
      "text/plain": [
       "array([[ 6,  6,  6,  6,  6],\n",
       "       [16, 16, 16, 16, 16]])"
      ]
     },
     "execution_count": 131,
     "metadata": {},
     "output_type": "execute_result"
    }
   ],
   "source": [
    "x1=np.array([[1,2,3,4,5],[6,7,8,9,10]]) # 2dim array\n",
    "y1=np.array([[5,4,3,2,1],[10,9,8,7,6]]) # 2dim array\n",
    "x1+y1"
   ]
  },
  {
   "cell_type": "code",
   "execution_count": 132,
   "id": "195fc265",
   "metadata": {},
   "outputs": [
    {
     "name": "stdout",
     "output_type": "stream",
     "text": [
      "[[ True  True False False False]\n",
      " [ True  True False False False]]\n"
     ]
    }
   ],
   "source": [
    "print(x1<y1) # returns a Boolean datatype in the same ndim array size"
   ]
  },
  {
   "cell_type": "code",
   "execution_count": 133,
   "id": "efba3e02",
   "metadata": {},
   "outputs": [],
   "source": [
    "# Reshape The numpy.reshape() function shapes an array without changing the data of the array."
   ]
  },
  {
   "cell_type": "code",
   "execution_count": 134,
   "id": "df93b6c1",
   "metadata": {},
   "outputs": [
    {
     "data": {
      "text/plain": [
       "array([0, 1, 2, 3, 4, 5, 6, 7])"
      ]
     },
     "execution_count": 134,
     "metadata": {},
     "output_type": "execute_result"
    }
   ],
   "source": [
    "import numpy as np\n",
    "x=np.arange(8)\n",
    "x"
   ]
  },
  {
   "cell_type": "code",
   "execution_count": 135,
   "id": "0ce82265",
   "metadata": {},
   "outputs": [
    {
     "data": {
      "text/plain": [
       "array([[0, 1],\n",
       "       [2, 3],\n",
       "       [4, 5],\n",
       "       [6, 7]])"
      ]
     },
     "execution_count": 135,
     "metadata": {},
     "output_type": "execute_result"
    }
   ],
   "source": [
    "x.reshape(4,2) # reshape size should be equal to the no.of elements in the array"
   ]
  },
  {
   "cell_type": "code",
   "execution_count": 136,
   "id": "4df3768e",
   "metadata": {},
   "outputs": [
    {
     "data": {
      "text/plain": [
       "array([[0, 1, 2, 3],\n",
       "       [4, 5, 6, 7]])"
      ]
     },
     "execution_count": 136,
     "metadata": {},
     "output_type": "execute_result"
    }
   ],
   "source": [
    "x.reshape(2,4)"
   ]
  },
  {
   "cell_type": "code",
   "execution_count": 137,
   "id": "040ac83c",
   "metadata": {},
   "outputs": [],
   "source": [
    "x=np.arange(1,51).reshape(10,5)\n"
   ]
  },
  {
   "cell_type": "code",
   "execution_count": 138,
   "id": "2f8a2c6b",
   "metadata": {},
   "outputs": [
    {
     "data": {
      "text/plain": [
       "array([[ 1,  2,  3,  4,  5],\n",
       "       [ 6,  7,  8,  9, 10],\n",
       "       [11, 12, 13, 14, 15],\n",
       "       [16, 17, 18, 19, 20],\n",
       "       [21, 22, 23, 24, 25],\n",
       "       [26, 27, 28, 29, 30],\n",
       "       [31, 32, 33, 34, 35],\n",
       "       [36, 37, 38, 39, 40],\n",
       "       [41, 42, 43, 44, 45],\n",
       "       [46, 47, 48, 49, 50]])"
      ]
     },
     "execution_count": 138,
     "metadata": {},
     "output_type": "execute_result"
    }
   ],
   "source": [
    "x"
   ]
  },
  {
   "cell_type": "code",
   "execution_count": 139,
   "id": "153dd9ad",
   "metadata": {},
   "outputs": [
    {
     "data": {
      "text/plain": [
       "array([[1, 2, 3],\n",
       "       [4, 5, 6]])"
      ]
     },
     "execution_count": 139,
     "metadata": {},
     "output_type": "execute_result"
    }
   ],
   "source": [
    "x=np.array([[1,2,3],[4,5,6]])\n",
    "x"
   ]
  },
  {
   "cell_type": "code",
   "execution_count": 140,
   "id": "d7dea66d",
   "metadata": {},
   "outputs": [
    {
     "data": {
      "text/plain": [
       "(2, 3)"
      ]
     },
     "execution_count": 140,
     "metadata": {},
     "output_type": "execute_result"
    }
   ],
   "source": [
    "x.shape"
   ]
  },
  {
   "cell_type": "code",
   "execution_count": 141,
   "id": "b1032c53",
   "metadata": {},
   "outputs": [
    {
     "data": {
      "text/plain": [
       "array([[1],\n",
       "       [2],\n",
       "       [3],\n",
       "       [4],\n",
       "       [5],\n",
       "       [6]])"
      ]
     },
     "execution_count": 141,
     "metadata": {},
     "output_type": "execute_result"
    }
   ],
   "source": [
    "x.reshape(6,1)\n"
   ]
  },
  {
   "cell_type": "code",
   "execution_count": 142,
   "id": "b56413f1",
   "metadata": {},
   "outputs": [],
   "source": [
    "import numpy as np\n",
    "x=np.arange(1,101)\n",
    "x.shape=1,100\n"
   ]
  },
  {
   "cell_type": "code",
   "execution_count": 143,
   "id": "bf37f26f",
   "metadata": {},
   "outputs": [
    {
     "data": {
      "text/plain": [
       "array([[  1,   2,   3,   4,   5,   6,   7,   8,   9,  10,  11,  12,  13,\n",
       "         14,  15,  16,  17,  18,  19,  20,  21,  22,  23,  24,  25,  26,\n",
       "         27,  28,  29,  30,  31,  32,  33,  34,  35,  36,  37,  38,  39,\n",
       "         40,  41,  42,  43,  44,  45,  46,  47,  48,  49,  50,  51,  52,\n",
       "         53,  54,  55,  56,  57,  58,  59,  60,  61,  62,  63,  64,  65,\n",
       "         66,  67,  68,  69,  70,  71,  72,  73,  74,  75,  76,  77,  78,\n",
       "         79,  80,  81,  82,  83,  84,  85,  86,  87,  88,  89,  90,  91,\n",
       "         92,  93,  94,  95,  96,  97,  98,  99, 100]])"
      ]
     },
     "execution_count": 143,
     "metadata": {},
     "output_type": "execute_result"
    }
   ],
   "source": [
    "x"
   ]
  },
  {
   "cell_type": "code",
   "execution_count": 144,
   "id": "3130d3ba",
   "metadata": {},
   "outputs": [],
   "source": [
    "# boolean based indexing"
   ]
  },
  {
   "cell_type": "code",
   "execution_count": 145,
   "id": "e64de2dc",
   "metadata": {},
   "outputs": [
    {
     "data": {
      "text/plain": [
       "array([[2, 3, 4],\n",
       "       [5, 6, 7]])"
      ]
     },
     "execution_count": 145,
     "metadata": {},
     "output_type": "execute_result"
    }
   ],
   "source": [
    "x=np.array([[2,3,4],[5,6,7]])\n",
    "x"
   ]
  },
  {
   "cell_type": "code",
   "execution_count": 146,
   "id": "26c1a030",
   "metadata": {},
   "outputs": [
    {
     "data": {
      "text/plain": [
       "array([[12,  3,  4],\n",
       "       [15,  6,  7]])"
      ]
     },
     "execution_count": 146,
     "metadata": {},
     "output_type": "execute_result"
    }
   ],
   "source": [
    "y=np.array([[12,3,4],[15,6,7]])\n",
    "y"
   ]
  },
  {
   "cell_type": "code",
   "execution_count": 147,
   "id": "f408cb27",
   "metadata": {},
   "outputs": [
    {
     "data": {
      "text/plain": [
       "array([[False,  True,  True],\n",
       "       [False,  True,  True]])"
      ]
     },
     "execution_count": 147,
     "metadata": {},
     "output_type": "execute_result"
    }
   ],
   "source": [
    "x==y"
   ]
  },
  {
   "cell_type": "code",
   "execution_count": 148,
   "id": "a216c62e",
   "metadata": {},
   "outputs": [],
   "source": [
    "# boolean based indexing -- to get an element which satisfies the condition"
   ]
  },
  {
   "cell_type": "code",
   "execution_count": 149,
   "id": "949db8ed",
   "metadata": {},
   "outputs": [
    {
     "data": {
      "text/plain": [
       "array([[  1,   2,   3,   4,   5,   6,   7,   8,   9,  10],\n",
       "       [ 11,  12,  13,  14,  15,  16,  17,  18,  19,  20],\n",
       "       [ 21,  22,  23,  24,  25,  26,  27,  28,  29,  30],\n",
       "       [ 31,  32,  33,  34,  35,  36,  37,  38,  39,  40],\n",
       "       [ 41,  42,  43,  44,  45,  46,  47,  48,  49,  50],\n",
       "       [ 51,  52,  53,  54,  55,  56,  57,  58,  59,  60],\n",
       "       [ 61,  62,  63,  64,  65,  66,  67,  68,  69,  70],\n",
       "       [ 71,  72,  73,  74,  75,  76,  77,  78,  79,  80],\n",
       "       [ 81,  82,  83,  84,  85,  86,  87,  88,  89,  90],\n",
       "       [ 91,  92,  93,  94,  95,  96,  97,  98,  99, 100]])"
      ]
     },
     "execution_count": 149,
     "metadata": {},
     "output_type": "execute_result"
    }
   ],
   "source": [
    "x=np.arange(1,101).reshape(10,10)\n",
    "x"
   ]
  },
  {
   "cell_type": "code",
   "execution_count": 150,
   "id": "83a16768",
   "metadata": {},
   "outputs": [],
   "source": [
    "#masking"
   ]
  },
  {
   "cell_type": "code",
   "execution_count": 151,
   "id": "691241fe",
   "metadata": {},
   "outputs": [
    {
     "data": {
      "text/plain": [
       "array([[False, False, False, False,  True, False, False, False, False,\n",
       "         True],\n",
       "       [False, False, False, False,  True, False, False, False, False,\n",
       "         True],\n",
       "       [False, False, False, False,  True, False, False, False, False,\n",
       "         True],\n",
       "       [False, False, False, False,  True, False, False, False, False,\n",
       "         True],\n",
       "       [False, False, False, False,  True, False, False, False, False,\n",
       "         True],\n",
       "       [False, False, False, False,  True, False, False, False, False,\n",
       "         True],\n",
       "       [False, False, False, False,  True, False, False, False, False,\n",
       "         True],\n",
       "       [False, False, False, False,  True, False, False, False, False,\n",
       "         True],\n",
       "       [False, False, False, False,  True, False, False, False, False,\n",
       "         True],\n",
       "       [False, False, False, False,  True, False, False, False, False,\n",
       "         True]])"
      ]
     },
     "execution_count": 151,
     "metadata": {},
     "output_type": "execute_result"
    }
   ],
   "source": [
    "x%5==0"
   ]
  },
  {
   "cell_type": "code",
   "execution_count": 152,
   "id": "232a2d10",
   "metadata": {},
   "outputs": [
    {
     "data": {
      "text/plain": [
       "array([  5,  10,  15,  20,  25,  30,  35,  40,  45,  50,  55,  60,  65,\n",
       "        70,  75,  80,  85,  90,  95, 100])"
      ]
     },
     "execution_count": 152,
     "metadata": {},
     "output_type": "execute_result"
    }
   ],
   "source": [
    "x[x%5==0] # Prints only the true values"
   ]
  },
  {
   "cell_type": "code",
   "execution_count": 153,
   "id": "15ff3caa",
   "metadata": {},
   "outputs": [
    {
     "data": {
      "text/plain": [
       "array([  3,   5,   6,   9,  10,  12,  15,  18,  20,  21,  24,  25,  27,\n",
       "        30,  33,  35,  36,  39,  40,  42,  45,  48,  50,  51,  54,  55,\n",
       "        57,  60,  63,  65,  66,  69,  70,  72,  75,  78,  80,  81,  84,\n",
       "        85,  87,  90,  93,  95,  96,  99, 100])"
      ]
     },
     "execution_count": 153,
     "metadata": {},
     "output_type": "execute_result"
    }
   ],
   "source": [
    "y=x[(x%5==0) | (x%3==0)]\n",
    "y"
   ]
  },
  {
   "cell_type": "code",
   "execution_count": 154,
   "id": "8325633b",
   "metadata": {},
   "outputs": [
    {
     "data": {
      "text/plain": [
       "array([1000,    5,    6,    9,   10,   12,   15,   18,   20,   21,   24,\n",
       "         25,   27,   30,   33,   35,   36,   39,   40,   42,   45,   48,\n",
       "         50,   51,   54,   55,   57,   60,   63,   65,   66,   69,   70,\n",
       "         72,   75,   78,   80,   81,   84,   85,   87,   90,   93,   95,\n",
       "         96,   99,  100])"
      ]
     },
     "execution_count": 154,
     "metadata": {},
     "output_type": "execute_result"
    }
   ],
   "source": [
    "y[0]=1000\n",
    "y\n"
   ]
  },
  {
   "cell_type": "code",
   "execution_count": 155,
   "id": "a4468fe6",
   "metadata": {},
   "outputs": [
    {
     "data": {
      "text/plain": [
       "array([[  1,   2,   3,   4,   5,   6,   7,   8,   9,  10],\n",
       "       [ 11,  12,  13,  14,  15,  16,  17,  18,  19,  20],\n",
       "       [ 21,  22,  23,  24,  25,  26,  27,  28,  29,  30],\n",
       "       [ 31,  32,  33,  34,  35,  36,  37,  38,  39,  40],\n",
       "       [ 41,  42,  43,  44,  45,  46,  47,  48,  49,  50],\n",
       "       [ 51,  52,  53,  54,  55,  56,  57,  58,  59,  60],\n",
       "       [ 61,  62,  63,  64,  65,  66,  67,  68,  69,  70],\n",
       "       [ 71,  72,  73,  74,  75,  76,  77,  78,  79,  80],\n",
       "       [ 81,  82,  83,  84,  85,  86,  87,  88,  89,  90],\n",
       "       [ 91,  92,  93,  94,  95,  96,  97,  98,  99, 100]])"
      ]
     },
     "execution_count": 155,
     "metadata": {},
     "output_type": "execute_result"
    }
   ],
   "source": [
    "x"
   ]
  },
  {
   "cell_type": "code",
   "execution_count": 156,
   "id": "f4031079",
   "metadata": {},
   "outputs": [],
   "source": [
    "# Dot Product \n",
    "# Condition =A(m,n) B(m,n)condition A(n)==B(m) and gives a array of m*n"
   ]
  },
  {
   "cell_type": "code",
   "execution_count": 157,
   "id": "6beddde0",
   "metadata": {},
   "outputs": [
    {
     "data": {
      "text/plain": [
       "array([1, 2, 3, 4, 5, 6])"
      ]
     },
     "execution_count": 157,
     "metadata": {},
     "output_type": "execute_result"
    }
   ],
   "source": [
    "x=np.arange(1,7)\n",
    "x"
   ]
  },
  {
   "cell_type": "code",
   "execution_count": 158,
   "id": "3dfd57f8",
   "metadata": {},
   "outputs": [
    {
     "data": {
      "text/plain": [
       "(6,)"
      ]
     },
     "execution_count": 158,
     "metadata": {},
     "output_type": "execute_result"
    }
   ],
   "source": [
    "x.shape"
   ]
  },
  {
   "cell_type": "code",
   "execution_count": 159,
   "id": "df0c57ef",
   "metadata": {},
   "outputs": [
    {
     "data": {
      "text/plain": [
       "array([[1, 2, 3],\n",
       "       [4, 5, 6]])"
      ]
     },
     "execution_count": 159,
     "metadata": {},
     "output_type": "execute_result"
    }
   ],
   "source": [
    "x=x.reshape(2,3)\n",
    "x"
   ]
  },
  {
   "cell_type": "code",
   "execution_count": 160,
   "id": "a4fd81f6",
   "metadata": {},
   "outputs": [
    {
     "data": {
      "text/plain": [
       "array([[1, 2, 3],\n",
       "       [4, 5, 6],\n",
       "       [7, 8, 9]])"
      ]
     },
     "execution_count": 160,
     "metadata": {},
     "output_type": "execute_result"
    }
   ],
   "source": [
    "y=np.arange(1,10).reshape(3,3)\n",
    "y"
   ]
  },
  {
   "cell_type": "code",
   "execution_count": 161,
   "id": "2f78eed0",
   "metadata": {},
   "outputs": [
    {
     "data": {
      "text/plain": [
       "array([[30, 36, 42],\n",
       "       [66, 81, 96]])"
      ]
     },
     "execution_count": 161,
     "metadata": {},
     "output_type": "execute_result"
    }
   ],
   "source": [
    "z=np.dot(x,y) \n",
    "z"
   ]
  },
  {
   "cell_type": "code",
   "execution_count": 162,
   "id": "71456ecc",
   "metadata": {},
   "outputs": [
    {
     "data": {
      "text/plain": [
       "(2, 3)"
      ]
     },
     "execution_count": 162,
     "metadata": {},
     "output_type": "execute_result"
    }
   ],
   "source": [
    "z.shape"
   ]
  },
  {
   "cell_type": "code",
   "execution_count": 163,
   "id": "d4b1f326",
   "metadata": {},
   "outputs": [],
   "source": [
    "# Some additional Functions"
   ]
  },
  {
   "cell_type": "code",
   "execution_count": 164,
   "id": "9761f500",
   "metadata": {},
   "outputs": [
    {
     "data": {
      "text/plain": [
       "array([ 6,  8, 10])"
      ]
     },
     "execution_count": 164,
     "metadata": {},
     "output_type": "execute_result"
    }
   ],
   "source": [
    "x=np.array([1,2,3])\n",
    "y=np.array([5,6,7])\n",
    "np.add(x,y)"
   ]
  },
  {
   "cell_type": "code",
   "execution_count": 165,
   "id": "4a1fe4f4",
   "metadata": {},
   "outputs": [
    {
     "data": {
      "text/plain": [
       "array([-4, -4, -4])"
      ]
     },
     "execution_count": 165,
     "metadata": {},
     "output_type": "execute_result"
    }
   ],
   "source": [
    "np.subtract(x,y)"
   ]
  },
  {
   "cell_type": "code",
   "execution_count": 166,
   "id": "0bc68d22",
   "metadata": {},
   "outputs": [
    {
     "data": {
      "text/plain": [
       "array([ 5, 12, 21])"
      ]
     },
     "execution_count": 166,
     "metadata": {},
     "output_type": "execute_result"
    }
   ],
   "source": [
    "np.multiply(x,y)"
   ]
  },
  {
   "cell_type": "code",
   "execution_count": 167,
   "id": "b1c54bb3",
   "metadata": {},
   "outputs": [
    {
     "data": {
      "text/plain": [
       "array([1.        , 1.41421356, 1.73205081])"
      ]
     },
     "execution_count": 167,
     "metadata": {},
     "output_type": "execute_result"
    }
   ],
   "source": [
    "np.sqrt(x)"
   ]
  },
  {
   "cell_type": "code",
   "execution_count": 168,
   "id": "f3499c2d",
   "metadata": {},
   "outputs": [],
   "source": [
    "# inf Infinite value"
   ]
  },
  {
   "cell_type": "code",
   "execution_count": 169,
   "id": "d19ce07b",
   "metadata": {},
   "outputs": [
    {
     "data": {
      "text/plain": [
       "array([[1., 2., 3.],\n",
       "       [4., 5., 6.],\n",
       "       [7., 8., 9.]])"
      ]
     },
     "execution_count": 169,
     "metadata": {},
     "output_type": "execute_result"
    }
   ],
   "source": [
    "x=np.arange(1,10,dtype=float).reshape(3,3)\n",
    "x"
   ]
  },
  {
   "cell_type": "code",
   "execution_count": 170,
   "id": "0abb4826",
   "metadata": {},
   "outputs": [
    {
     "data": {
      "text/plain": [
       "array([[ 1., inf,  3.],\n",
       "       [ 4.,  5.,  6.],\n",
       "       [ 7.,  8.,  9.]])"
      ]
     },
     "execution_count": 170,
     "metadata": {},
     "output_type": "execute_result"
    }
   ],
   "source": [
    "x[0,1]=np.inf\n",
    "x"
   ]
  },
  {
   "cell_type": "code",
   "execution_count": 171,
   "id": "1fd19aa4",
   "metadata": {},
   "outputs": [],
   "source": [
    "# nan -> Not a number  (missing value)"
   ]
  },
  {
   "cell_type": "code",
   "execution_count": 172,
   "id": "39ea5cae",
   "metadata": {},
   "outputs": [
    {
     "data": {
      "text/plain": [
       "array([[ 1., inf,  3.],\n",
       "       [ 4.,  5.,  6.],\n",
       "       [ 7., nan,  9.]])"
      ]
     },
     "execution_count": 172,
     "metadata": {},
     "output_type": "execute_result"
    }
   ],
   "source": [
    "x[2,1]=np.nan\n",
    "x"
   ]
  },
  {
   "cell_type": "code",
   "execution_count": 173,
   "id": "89dd7a01",
   "metadata": {},
   "outputs": [
    {
     "data": {
      "text/plain": [
       "array([[1., 2., 3.],\n",
       "       [4., 5., 6.],\n",
       "       [7., 8., 9.]])"
      ]
     },
     "execution_count": 173,
     "metadata": {},
     "output_type": "execute_result"
    }
   ],
   "source": [
    "x=np.arange(1,10,dtype=float).reshape(3,3)\n",
    "x"
   ]
  },
  {
   "cell_type": "code",
   "execution_count": 174,
   "id": "fdc72883",
   "metadata": {},
   "outputs": [
    {
     "data": {
      "text/plain": [
       "array([[ 1., inf,  3.],\n",
       "       [ 4.,  5.,  6.],\n",
       "       [ 7.,  8.,  9.]])"
      ]
     },
     "execution_count": 174,
     "metadata": {},
     "output_type": "execute_result"
    }
   ],
   "source": [
    "x[0,1]=np.inf\n",
    "x"
   ]
  },
  {
   "cell_type": "code",
   "execution_count": 175,
   "id": "b2197874",
   "metadata": {},
   "outputs": [
    {
     "data": {
      "text/plain": [
       "array([[ 1., inf,  3.],\n",
       "       [ 4., nan,  6.],\n",
       "       [ 7.,  8.,  9.]])"
      ]
     },
     "execution_count": 175,
     "metadata": {},
     "output_type": "execute_result"
    }
   ],
   "source": [
    "x[1,1]=np.nan\n",
    "x"
   ]
  },
  {
   "cell_type": "code",
   "execution_count": 176,
   "id": "ee36ab3f",
   "metadata": {},
   "outputs": [],
   "source": [
    "#isinf"
   ]
  },
  {
   "cell_type": "code",
   "execution_count": 177,
   "id": "cdfe592f",
   "metadata": {},
   "outputs": [
    {
     "data": {
      "text/plain": [
       "array([[False,  True, False],\n",
       "       [False, False, False],\n",
       "       [False, False, False]])"
      ]
     },
     "execution_count": 177,
     "metadata": {},
     "output_type": "execute_result"
    }
   ],
   "source": [
    "np.isinf(x)"
   ]
  },
  {
   "cell_type": "code",
   "execution_count": 178,
   "id": "82127e78",
   "metadata": {},
   "outputs": [],
   "source": [
    "#isnan"
   ]
  },
  {
   "cell_type": "code",
   "execution_count": 179,
   "id": "6ff02adb",
   "metadata": {},
   "outputs": [
    {
     "data": {
      "text/plain": [
       "array([[False, False, False],\n",
       "       [False,  True, False],\n",
       "       [False, False, False]])"
      ]
     },
     "execution_count": 179,
     "metadata": {},
     "output_type": "execute_result"
    }
   ],
   "source": [
    "np.isnan(x)"
   ]
  },
  {
   "cell_type": "code",
   "execution_count": 180,
   "id": "92b58186",
   "metadata": {},
   "outputs": [
    {
     "data": {
      "text/plain": [
       "array([[ 1.,  2.,  3.,  4.,  5.,  6.],\n",
       "       [ 7.,  8.,  9., 10., 11., 12.],\n",
       "       [13., 14., 15., 16., 17., 18.],\n",
       "       [19., 20., 21., 22., 23., 24.],\n",
       "       [25., 26., 27., 28., 29., 30.]])"
      ]
     },
     "execution_count": 180,
     "metadata": {},
     "output_type": "execute_result"
    }
   ],
   "source": [
    "z=np.arange(1,31,dtype=float).reshape(5,6)\n",
    "z"
   ]
  },
  {
   "cell_type": "code",
   "execution_count": 181,
   "id": "21436613",
   "metadata": {},
   "outputs": [
    {
     "data": {
      "text/plain": [
       "array([[inf,  2., inf,  4., inf,  6.],\n",
       "       [inf,  8., inf, 10., inf, 12.],\n",
       "       [inf, 14., inf, 16., inf, 18.],\n",
       "       [inf, 20., inf, 22., inf, 24.],\n",
       "       [inf, 26., inf, 28., inf, 30.]])"
      ]
     },
     "execution_count": 181,
     "metadata": {},
     "output_type": "execute_result"
    }
   ],
   "source": [
    "z[z%2!=0]=np.inf\n",
    "z"
   ]
  },
  {
   "cell_type": "code",
   "execution_count": 182,
   "id": "2e4a1318",
   "metadata": {},
   "outputs": [
    {
     "name": "stderr",
     "output_type": "stream",
     "text": [
      "C:\\Users\\Gogula Vinay\\AppData\\Local\\Temp\\ipykernel_12628\\1203910585.py:1: RuntimeWarning: invalid value encountered in remainder\n",
      "  z[z%2==0]=np.nan\n"
     ]
    },
    {
     "data": {
      "text/plain": [
       "array([[inf, nan, inf, nan, inf, nan],\n",
       "       [inf, nan, inf, nan, inf, nan],\n",
       "       [inf, nan, inf, nan, inf, nan],\n",
       "       [inf, nan, inf, nan, inf, nan],\n",
       "       [inf, nan, inf, nan, inf, nan]])"
      ]
     },
     "execution_count": 182,
     "metadata": {},
     "output_type": "execute_result"
    }
   ],
   "source": [
    "z[z%2==0]=np.nan\n",
    "z"
   ]
  },
  {
   "cell_type": "code",
   "execution_count": 183,
   "id": "66854556",
   "metadata": {},
   "outputs": [
    {
     "data": {
      "text/plain": [
       "array([[False,  True, False,  True, False,  True],\n",
       "       [False,  True, False,  True, False,  True],\n",
       "       [False,  True, False,  True, False,  True],\n",
       "       [False,  True, False,  True, False,  True],\n",
       "       [False,  True, False,  True, False,  True]])"
      ]
     },
     "execution_count": 183,
     "metadata": {},
     "output_type": "execute_result"
    }
   ],
   "source": [
    "np.isnan(z)"
   ]
  },
  {
   "cell_type": "code",
   "execution_count": 184,
   "id": "5689dc8c",
   "metadata": {},
   "outputs": [
    {
     "data": {
      "text/plain": [
       "array([nan, nan, nan, nan, nan, nan, nan, nan, nan, nan, nan, nan, nan,\n",
       "       nan, nan])"
      ]
     },
     "execution_count": 184,
     "metadata": {},
     "output_type": "execute_result"
    }
   ],
   "source": [
    "z[np.isnan(z)]\n"
   ]
  },
  {
   "cell_type": "code",
   "execution_count": 185,
   "id": "fd0214ad",
   "metadata": {},
   "outputs": [
    {
     "data": {
      "text/plain": [
       "(15,)"
      ]
     },
     "execution_count": 185,
     "metadata": {},
     "output_type": "execute_result"
    }
   ],
   "source": [
    "z[np.isnan(z)].shape"
   ]
  },
  {
   "cell_type": "code",
   "execution_count": 186,
   "id": "e57154e5",
   "metadata": {},
   "outputs": [
    {
     "name": "stdout",
     "output_type": "stream",
     "text": [
      "15\n",
      "(15,)\n"
     ]
    }
   ],
   "source": [
    "print(len(z[np.isnan(z)]))\n",
    "print(z[np.isnan(z)].shape)"
   ]
  },
  {
   "cell_type": "code",
   "execution_count": null,
   "id": "103cf6db",
   "metadata": {},
   "outputs": [],
   "source": [
    "# 17 Aug 2022"
   ]
  },
  {
   "cell_type": "code",
   "execution_count": null,
   "id": "eb551aad",
   "metadata": {},
   "outputs": [],
   "source": [
    "# sum -> gives the sum of array"
   ]
  },
  {
   "cell_type": "code",
   "execution_count": 11,
   "id": "bfa6350b",
   "metadata": {},
   "outputs": [
    {
     "data": {
      "text/plain": [
       "array([[15, 10, 17, 10],\n",
       "       [11, 11, 18, 11],\n",
       "       [12, 11, 11, 20]])"
      ]
     },
     "execution_count": 11,
     "metadata": {},
     "output_type": "execute_result"
    }
   ],
   "source": [
    "x=np.random.randint(10,21,(3,4))\n",
    "x"
   ]
  },
  {
   "cell_type": "code",
   "execution_count": 12,
   "id": "dde48381",
   "metadata": {},
   "outputs": [
    {
     "data": {
      "text/plain": [
       "157"
      ]
     },
     "execution_count": 12,
     "metadata": {},
     "output_type": "execute_result"
    }
   ],
   "source": [
    "x.sum()"
   ]
  },
  {
   "cell_type": "code",
   "execution_count": 13,
   "id": "7dba0070",
   "metadata": {},
   "outputs": [
    {
     "data": {
      "text/plain": [
       "array([52, 51, 54])"
      ]
     },
     "execution_count": 13,
     "metadata": {},
     "output_type": "execute_result"
    }
   ],
   "source": [
    "x.sum(axis=1)"
   ]
  },
  {
   "cell_type": "code",
   "execution_count": 16,
   "id": "8d9a99c9",
   "metadata": {},
   "outputs": [
    {
     "data": {
      "text/plain": [
       "array([1, 2, 3, 4])"
      ]
     },
     "execution_count": 16,
     "metadata": {},
     "output_type": "execute_result"
    }
   ],
   "source": [
    "import numpy as np\n",
    "x=np.array((1,2,3,4))\n",
    "x"
   ]
  },
  {
   "cell_type": "code",
   "execution_count": 15,
   "id": "e28a3470",
   "metadata": {},
   "outputs": [
    {
     "data": {
      "text/plain": [
       "10"
      ]
     },
     "execution_count": 15,
     "metadata": {},
     "output_type": "execute_result"
    }
   ],
   "source": [
    "np.sum(x)"
   ]
  },
  {
   "cell_type": "code",
   "execution_count": 3,
   "id": "7d5d5bf4",
   "metadata": {},
   "outputs": [],
   "source": [
    "# Prod -> Gives the product of the whole matrix"
   ]
  },
  {
   "cell_type": "code",
   "execution_count": 4,
   "id": "8dcf662b",
   "metadata": {},
   "outputs": [
    {
     "data": {
      "text/plain": [
       "24"
      ]
     },
     "execution_count": 4,
     "metadata": {},
     "output_type": "execute_result"
    }
   ],
   "source": [
    "np.prod(x)"
   ]
  },
  {
   "cell_type": "code",
   "execution_count": 5,
   "id": "a02bed4d",
   "metadata": {},
   "outputs": [],
   "source": [
    "x=np.arange(1,10).reshape(3,3)"
   ]
  },
  {
   "cell_type": "code",
   "execution_count": 6,
   "id": "a6627648",
   "metadata": {},
   "outputs": [
    {
     "data": {
      "text/plain": [
       "array([[1, 2, 3],\n",
       "       [4, 5, 6],\n",
       "       [7, 8, 9]])"
      ]
     },
     "execution_count": 6,
     "metadata": {},
     "output_type": "execute_result"
    }
   ],
   "source": [
    "x"
   ]
  },
  {
   "cell_type": "code",
   "execution_count": 7,
   "id": "21993e6f",
   "metadata": {},
   "outputs": [
    {
     "data": {
      "text/plain": [
       "362880"
      ]
     },
     "execution_count": 7,
     "metadata": {},
     "output_type": "execute_result"
    }
   ],
   "source": [
    "np.prod(x)"
   ]
  },
  {
   "cell_type": "code",
   "execution_count": 8,
   "id": "849a80c4",
   "metadata": {},
   "outputs": [
    {
     "data": {
      "text/plain": [
       "array([ 28,  80, 162])"
      ]
     },
     "execution_count": 8,
     "metadata": {},
     "output_type": "execute_result"
    }
   ],
   "source": [
    "np.prod(x,axis=0)"
   ]
  },
  {
   "cell_type": "code",
   "execution_count": 9,
   "id": "cf06c892",
   "metadata": {},
   "outputs": [
    {
     "data": {
      "text/plain": [
       "array([  6, 120, 504])"
      ]
     },
     "execution_count": 9,
     "metadata": {},
     "output_type": "execute_result"
    }
   ],
   "source": [
    "np.prod(x,axis=1)"
   ]
  },
  {
   "cell_type": "code",
   "execution_count": 10,
   "id": "783d66fc",
   "metadata": {},
   "outputs": [
    {
     "data": {
      "text/plain": [
       "array([[1., 2., 3.],\n",
       "       [4., 5., 6.],\n",
       "       [7., 8., 9.]])"
      ]
     },
     "execution_count": 10,
     "metadata": {},
     "output_type": "execute_result"
    }
   ],
   "source": [
    "x=np.arange(1,10,dtype=float).reshape(3,3)\n",
    "x"
   ]
  },
  {
   "cell_type": "code",
   "execution_count": 16,
   "id": "eeeb637e",
   "metadata": {},
   "outputs": [],
   "source": [
    "x[1,1]=np.nan"
   ]
  },
  {
   "cell_type": "code",
   "execution_count": 17,
   "id": "6360bf7b",
   "metadata": {},
   "outputs": [
    {
     "data": {
      "text/plain": [
       "nan"
      ]
     },
     "execution_count": 17,
     "metadata": {},
     "output_type": "execute_result"
    }
   ],
   "source": [
    "np.prod(x)"
   ]
  },
  {
   "cell_type": "code",
   "execution_count": null,
   "id": "cf498adf",
   "metadata": {},
   "outputs": [],
   "source": [
    "# nanprod converts nan into 1"
   ]
  },
  {
   "cell_type": "code",
   "execution_count": 18,
   "id": "0f15997d",
   "metadata": {},
   "outputs": [
    {
     "data": {
      "text/plain": [
       "72576.0"
      ]
     },
     "execution_count": 18,
     "metadata": {},
     "output_type": "execute_result"
    }
   ],
   "source": [
    "np.nanprod(x)"
   ]
  },
  {
   "cell_type": "code",
   "execution_count": 21,
   "id": "45fbd8de",
   "metadata": {},
   "outputs": [
    {
     "data": {
      "text/plain": [
       "array([ 28.,  16., 162.])"
      ]
     },
     "execution_count": 21,
     "metadata": {},
     "output_type": "execute_result"
    }
   ],
   "source": [
    "np.nanprod(x,axis=0)"
   ]
  },
  {
   "cell_type": "code",
   "execution_count": 22,
   "id": "6590b4bd",
   "metadata": {},
   "outputs": [
    {
     "data": {
      "text/plain": [
       "array([  6.,  24., 504.])"
      ]
     },
     "execution_count": 22,
     "metadata": {},
     "output_type": "execute_result"
    }
   ],
   "source": [
    "np.nanprod(x,axis=1)"
   ]
  },
  {
   "cell_type": "code",
   "execution_count": 19,
   "id": "d03182f6",
   "metadata": {},
   "outputs": [
    {
     "data": {
      "text/plain": [
       "nan"
      ]
     },
     "execution_count": 19,
     "metadata": {},
     "output_type": "execute_result"
    }
   ],
   "source": [
    "np.sum(x)"
   ]
  },
  {
   "cell_type": "code",
   "execution_count": null,
   "id": "da59a26b",
   "metadata": {},
   "outputs": [],
   "source": [
    "# nansum converts nan into 0"
   ]
  },
  {
   "cell_type": "code",
   "execution_count": 20,
   "id": "cc0ab279",
   "metadata": {},
   "outputs": [
    {
     "data": {
      "text/plain": [
       "40.0"
      ]
     },
     "execution_count": 20,
     "metadata": {},
     "output_type": "execute_result"
    }
   ],
   "source": [
    "np.nansum(x)"
   ]
  },
  {
   "cell_type": "code",
   "execution_count": 23,
   "id": "dfa386d5",
   "metadata": {},
   "outputs": [
    {
     "data": {
      "text/plain": [
       "array([12., 10., 18.])"
      ]
     },
     "execution_count": 23,
     "metadata": {},
     "output_type": "execute_result"
    }
   ],
   "source": [
    "np.nansum(x,axis=0)"
   ]
  },
  {
   "cell_type": "code",
   "execution_count": 24,
   "id": "cdbd4eeb",
   "metadata": {},
   "outputs": [
    {
     "data": {
      "text/plain": [
       "array([ 6., 10., 24.])"
      ]
     },
     "execution_count": 24,
     "metadata": {},
     "output_type": "execute_result"
    }
   ],
   "source": [
    "np.nansum(x,axis=1)"
   ]
  },
  {
   "cell_type": "code",
   "execution_count": 28,
   "id": "d0e4ea84",
   "metadata": {},
   "outputs": [
    {
     "data": {
      "text/plain": [
       "array([1, 2, 3, 4, 5, 6, 7, 8, 9])"
      ]
     },
     "execution_count": 28,
     "metadata": {},
     "output_type": "execute_result"
    }
   ],
   "source": [
    "x=np.arange(1,10)\n",
    "x"
   ]
  },
  {
   "cell_type": "code",
   "execution_count": null,
   "id": "f2b132fc",
   "metadata": {},
   "outputs": [],
   "source": [
    "# cumulative sum (cumsum())"
   ]
  },
  {
   "cell_type": "code",
   "execution_count": 29,
   "id": "2cd36dd3",
   "metadata": {},
   "outputs": [
    {
     "data": {
      "text/plain": [
       "array([ 1,  3,  6, 10, 15, 21, 28, 36, 45], dtype=int32)"
      ]
     },
     "execution_count": 29,
     "metadata": {},
     "output_type": "execute_result"
    }
   ],
   "source": [
    "np.cumsum(x)"
   ]
  },
  {
   "cell_type": "code",
   "execution_count": null,
   "id": "edd3e7d8",
   "metadata": {},
   "outputs": [],
   "source": [
    "# cumulative product (cumprod())"
   ]
  },
  {
   "cell_type": "code",
   "execution_count": 39,
   "id": "ba45d07c",
   "metadata": {},
   "outputs": [
    {
     "data": {
      "text/plain": [
       "array([     1,      2,      6,     24,    120,    720,   5040,  40320,\n",
       "       362880], dtype=int32)"
      ]
     },
     "execution_count": 39,
     "metadata": {},
     "output_type": "execute_result"
    }
   ],
   "source": [
    "np.cumprod(x)"
   ]
  },
  {
   "cell_type": "code",
   "execution_count": 32,
   "id": "9db94464",
   "metadata": {},
   "outputs": [
    {
     "data": {
      "text/plain": [
       "array([[1, 2, 3],\n",
       "       [4, 5, 6],\n",
       "       [7, 8, 9]])"
      ]
     },
     "execution_count": 32,
     "metadata": {},
     "output_type": "execute_result"
    }
   ],
   "source": [
    "x=np.arange(1,10).reshape(3,3)\n",
    "x"
   ]
  },
  {
   "cell_type": "code",
   "execution_count": 33,
   "id": "8566a9b5",
   "metadata": {},
   "outputs": [
    {
     "data": {
      "text/plain": [
       "array([ 1,  3,  6, 10, 15, 21, 28, 36, 45], dtype=int32)"
      ]
     },
     "execution_count": 33,
     "metadata": {},
     "output_type": "execute_result"
    }
   ],
   "source": [
    "np.cumsum(x)"
   ]
  },
  {
   "cell_type": "code",
   "execution_count": 34,
   "id": "ef2c562b",
   "metadata": {},
   "outputs": [
    {
     "data": {
      "text/plain": [
       "array([[ 1,  2,  3],\n",
       "       [ 5,  7,  9],\n",
       "       [12, 15, 18]], dtype=int32)"
      ]
     },
     "execution_count": 34,
     "metadata": {},
     "output_type": "execute_result"
    }
   ],
   "source": [
    "np.cumsum(x,axis=0)"
   ]
  },
  {
   "cell_type": "code",
   "execution_count": 35,
   "id": "5867751c",
   "metadata": {},
   "outputs": [
    {
     "data": {
      "text/plain": [
       "array([[ 1,  3,  6],\n",
       "       [ 4,  9, 15],\n",
       "       [ 7, 15, 24]], dtype=int32)"
      ]
     },
     "execution_count": 35,
     "metadata": {},
     "output_type": "execute_result"
    }
   ],
   "source": [
    "np.cumsum(x,axis=1)"
   ]
  },
  {
   "cell_type": "code",
   "execution_count": 36,
   "id": "90265331",
   "metadata": {},
   "outputs": [
    {
     "data": {
      "text/plain": [
       "array([     1,      2,      6,     24,    120,    720,   5040,  40320,\n",
       "       362880], dtype=int32)"
      ]
     },
     "execution_count": 36,
     "metadata": {},
     "output_type": "execute_result"
    }
   ],
   "source": [
    "np.cumprod(x)"
   ]
  },
  {
   "cell_type": "code",
   "execution_count": 37,
   "id": "3536a479",
   "metadata": {},
   "outputs": [
    {
     "data": {
      "text/plain": [
       "array([[  1,   2,   3],\n",
       "       [  4,  10,  18],\n",
       "       [ 28,  80, 162]], dtype=int32)"
      ]
     },
     "execution_count": 37,
     "metadata": {},
     "output_type": "execute_result"
    }
   ],
   "source": [
    "np.cumprod(x,axis=0)"
   ]
  },
  {
   "cell_type": "code",
   "execution_count": 38,
   "id": "640f60e9",
   "metadata": {},
   "outputs": [
    {
     "data": {
      "text/plain": [
       "array([[  1,   2,   6],\n",
       "       [  4,  20, 120],\n",
       "       [  7,  56, 504]], dtype=int32)"
      ]
     },
     "execution_count": 38,
     "metadata": {},
     "output_type": "execute_result"
    }
   ],
   "source": [
    "np.cumprod(x,axis=1)"
   ]
  },
  {
   "cell_type": "code",
   "execution_count": null,
   "id": "96beb0f5",
   "metadata": {},
   "outputs": [],
   "source": [
    "# nancumsum()"
   ]
  },
  {
   "cell_type": "code",
   "execution_count": 43,
   "id": "b2a0451f",
   "metadata": {},
   "outputs": [
    {
     "data": {
      "text/plain": [
       "array([[1., 2., 3.],\n",
       "       [4., 5., 6.],\n",
       "       [7., 8., 9.]])"
      ]
     },
     "execution_count": 43,
     "metadata": {},
     "output_type": "execute_result"
    }
   ],
   "source": [
    "x=np.arange(1,10,dtype=float).reshape(3,3)\n",
    "x\n"
   ]
  },
  {
   "cell_type": "code",
   "execution_count": 45,
   "id": "e8d6b1de",
   "metadata": {},
   "outputs": [],
   "source": [
    "x[1,1]=np.nan"
   ]
  },
  {
   "cell_type": "code",
   "execution_count": 46,
   "id": "073bd802",
   "metadata": {},
   "outputs": [
    {
     "data": {
      "text/plain": [
       "array([ 1.,  3.,  6., 10., 10., 16., 23., 31., 40.])"
      ]
     },
     "execution_count": 46,
     "metadata": {},
     "output_type": "execute_result"
    }
   ],
   "source": [
    "np.nancumsum(x)"
   ]
  },
  {
   "cell_type": "code",
   "execution_count": 47,
   "id": "6b2498d7",
   "metadata": {},
   "outputs": [
    {
     "data": {
      "text/plain": [
       "array([1.0000e+00, 2.0000e+00, 6.0000e+00, 2.4000e+01, 2.4000e+01,\n",
       "       1.4400e+02, 1.0080e+03, 8.0640e+03, 7.2576e+04])"
      ]
     },
     "execution_count": 47,
     "metadata": {},
     "output_type": "execute_result"
    }
   ],
   "source": [
    "np.nancumprod(x)"
   ]
  },
  {
   "cell_type": "code",
   "execution_count": 53,
   "id": "68174bc8",
   "metadata": {},
   "outputs": [],
   "source": [
    "# for finding Minimum and Maximum "
   ]
  },
  {
   "cell_type": "code",
   "execution_count": 55,
   "id": "9868a106",
   "metadata": {},
   "outputs": [
    {
     "data": {
      "text/plain": [
       "1"
      ]
     },
     "execution_count": 55,
     "metadata": {},
     "output_type": "execute_result"
    }
   ],
   "source": [
    "x=np.array([1,2,3,4,5])\n",
    "np.min(x)"
   ]
  },
  {
   "cell_type": "code",
   "execution_count": 56,
   "id": "498486d8",
   "metadata": {},
   "outputs": [
    {
     "data": {
      "text/plain": [
       "5"
      ]
     },
     "execution_count": 56,
     "metadata": {},
     "output_type": "execute_result"
    }
   ],
   "source": [
    "np.max(x)"
   ]
  },
  {
   "cell_type": "code",
   "execution_count": 58,
   "id": "65d9da80",
   "metadata": {},
   "outputs": [
    {
     "data": {
      "text/plain": [
       "array([[1, 2, 3],\n",
       "       [4, 5, 6],\n",
       "       [7, 8, 9]])"
      ]
     },
     "execution_count": 58,
     "metadata": {},
     "output_type": "execute_result"
    }
   ],
   "source": [
    "x1=np.arange(1,10).reshape(3,3)\n",
    "print(x1)"
   ]
  },
  {
   "cell_type": "code",
   "execution_count": 60,
   "id": "a1227d63",
   "metadata": {},
   "outputs": [
    {
     "name": "stdout",
     "output_type": "stream",
     "text": [
      "1 9\n"
     ]
    }
   ],
   "source": [
    "print(np.min(x1), np.max(x1))\n"
   ]
  },
  {
   "cell_type": "code",
   "execution_count": 61,
   "id": "27227302",
   "metadata": {},
   "outputs": [
    {
     "name": "stdout",
     "output_type": "stream",
     "text": [
      "[1 2 3] [1 4 7]\n"
     ]
    }
   ],
   "source": [
    "print(np.min(x1,axis=0), np.min(x1,axis=1))"
   ]
  },
  {
   "cell_type": "code",
   "execution_count": 62,
   "id": "7b802b53",
   "metadata": {},
   "outputs": [
    {
     "name": "stdout",
     "output_type": "stream",
     "text": [
      "[7 8 9] [3 6 9]\n"
     ]
    }
   ],
   "source": [
    "print(np.max(x1,axis=0), np.max(x1,axis=1))"
   ]
  },
  {
   "cell_type": "code",
   "execution_count": 63,
   "id": "8c1ddca1",
   "metadata": {},
   "outputs": [],
   "source": [
    "# inf in sum need to convert the inf value to 0"
   ]
  },
  {
   "cell_type": "code",
   "execution_count": 64,
   "id": "6734e58b",
   "metadata": {},
   "outputs": [
    {
     "data": {
      "text/plain": [
       "array([[1., 2., 3.],\n",
       "       [4., 5., 6.],\n",
       "       [7., 8., 9.]])"
      ]
     },
     "execution_count": 64,
     "metadata": {},
     "output_type": "execute_result"
    }
   ],
   "source": [
    "x1=np.arange(1,10,dtype=float).reshape(3,3)\n",
    "x1\n"
   ]
  },
  {
   "cell_type": "code",
   "execution_count": 65,
   "id": "e55f9768",
   "metadata": {},
   "outputs": [
    {
     "data": {
      "text/plain": [
       "array([[inf,  2.,  3.],\n",
       "       [ 4.,  5.,  6.],\n",
       "       [ 7.,  8.,  9.]])"
      ]
     },
     "execution_count": 65,
     "metadata": {},
     "output_type": "execute_result"
    }
   ],
   "source": [
    "x1[0,0]=np.inf\n",
    "x1"
   ]
  },
  {
   "cell_type": "code",
   "execution_count": 66,
   "id": "78fec12c",
   "metadata": {},
   "outputs": [
    {
     "data": {
      "text/plain": [
       "inf"
      ]
     },
     "execution_count": 66,
     "metadata": {},
     "output_type": "execute_result"
    }
   ],
   "source": [
    "np.sum(x1)"
   ]
  },
  {
   "cell_type": "code",
   "execution_count": 68,
   "id": "852d1b7e",
   "metadata": {},
   "outputs": [
    {
     "data": {
      "text/plain": [
       "array([[ True, False, False],\n",
       "       [False, False, False],\n",
       "       [False, False, False]])"
      ]
     },
     "execution_count": 68,
     "metadata": {},
     "output_type": "execute_result"
    }
   ],
   "source": [
    "np.isinf(x1)"
   ]
  },
  {
   "cell_type": "code",
   "execution_count": 70,
   "id": "38b09129",
   "metadata": {},
   "outputs": [],
   "source": [
    "x1[np.isinf(x1)]=0"
   ]
  },
  {
   "cell_type": "code",
   "execution_count": 71,
   "id": "4a013a9e",
   "metadata": {},
   "outputs": [
    {
     "data": {
      "text/plain": [
       "44.0"
      ]
     },
     "execution_count": 71,
     "metadata": {},
     "output_type": "execute_result"
    }
   ],
   "source": [
    "np.sum(x1)"
   ]
  },
  {
   "cell_type": "code",
   "execution_count": 72,
   "id": "72d38640",
   "metadata": {},
   "outputs": [],
   "source": [
    "# Mean"
   ]
  },
  {
   "cell_type": "code",
   "execution_count": 74,
   "id": "d287aa7a",
   "metadata": {},
   "outputs": [
    {
     "data": {
      "text/plain": [
       "3.0"
      ]
     },
     "execution_count": 74,
     "metadata": {},
     "output_type": "execute_result"
    }
   ],
   "source": [
    "x=np.array([1,2,3,4,5])\n",
    "np.mean(x)"
   ]
  },
  {
   "cell_type": "code",
   "execution_count": 75,
   "id": "4b991b1e",
   "metadata": {},
   "outputs": [
    {
     "data": {
      "text/plain": [
       "array([[0., 2., 3.],\n",
       "       [4., 5., 6.],\n",
       "       [7., 8., 9.]])"
      ]
     },
     "execution_count": 75,
     "metadata": {},
     "output_type": "execute_result"
    }
   ],
   "source": [
    "x1"
   ]
  },
  {
   "cell_type": "code",
   "execution_count": 77,
   "id": "3194aca3",
   "metadata": {},
   "outputs": [
    {
     "data": {
      "text/plain": [
       "4.888888888888889"
      ]
     },
     "execution_count": 77,
     "metadata": {},
     "output_type": "execute_result"
    }
   ],
   "source": [
    "np.mean(x1)"
   ]
  },
  {
   "cell_type": "code",
   "execution_count": 78,
   "id": "cc0da9d1",
   "metadata": {},
   "outputs": [
    {
     "data": {
      "text/plain": [
       "array([3.66666667, 5.        , 6.        ])"
      ]
     },
     "execution_count": 78,
     "metadata": {},
     "output_type": "execute_result"
    }
   ],
   "source": [
    "np.mean(x1,axis=0)"
   ]
  },
  {
   "cell_type": "code",
   "execution_count": 79,
   "id": "a6ae856d",
   "metadata": {},
   "outputs": [
    {
     "data": {
      "text/plain": [
       "array([1.66666667, 5.        , 8.        ])"
      ]
     },
     "execution_count": 79,
     "metadata": {},
     "output_type": "execute_result"
    }
   ],
   "source": [
    "np.mean(x1,axis=1)"
   ]
  },
  {
   "cell_type": "code",
   "execution_count": null,
   "id": "7f35d857",
   "metadata": {},
   "outputs": [],
   "source": [
    "# median"
   ]
  },
  {
   "cell_type": "code",
   "execution_count": 80,
   "id": "d0a213a4",
   "metadata": {},
   "outputs": [
    {
     "data": {
      "text/plain": [
       "3.0"
      ]
     },
     "execution_count": 80,
     "metadata": {},
     "output_type": "execute_result"
    }
   ],
   "source": [
    "np.median(x)"
   ]
  },
  {
   "cell_type": "code",
   "execution_count": 81,
   "id": "4796fc5d",
   "metadata": {},
   "outputs": [
    {
     "data": {
      "text/plain": [
       "array([[0., 2., 3.],\n",
       "       [4., 5., 6.],\n",
       "       [7., 8., 9.]])"
      ]
     },
     "execution_count": 81,
     "metadata": {},
     "output_type": "execute_result"
    }
   ],
   "source": [
    "x1"
   ]
  },
  {
   "cell_type": "code",
   "execution_count": 82,
   "id": "734c4624",
   "metadata": {},
   "outputs": [
    {
     "data": {
      "text/plain": [
       "5.0"
      ]
     },
     "execution_count": 82,
     "metadata": {},
     "output_type": "execute_result"
    }
   ],
   "source": [
    "np.median(x1)"
   ]
  },
  {
   "cell_type": "code",
   "execution_count": 83,
   "id": "d99f18f4",
   "metadata": {},
   "outputs": [
    {
     "name": "stdout",
     "output_type": "stream",
     "text": [
      "[4. 5. 6.] [2. 5. 8.]\n"
     ]
    }
   ],
   "source": [
    "print(np.median(x1,axis=0),np.median(x1,axis=1))"
   ]
  },
  {
   "cell_type": "code",
   "execution_count": 84,
   "id": "aae3d539",
   "metadata": {},
   "outputs": [],
   "source": [
    "#how to find the unqiue elements in an n-dim array"
   ]
  },
  {
   "cell_type": "code",
   "execution_count": 85,
   "id": "e32bec8c",
   "metadata": {},
   "outputs": [
    {
     "data": {
      "text/plain": [
       "array([1, 2, 3, 4, 5, 6])"
      ]
     },
     "execution_count": 85,
     "metadata": {},
     "output_type": "execute_result"
    }
   ],
   "source": [
    "x=np.array([1,2,3,4,5,1,1,2,5,6,2,4])\n",
    "np.unique(x)"
   ]
  },
  {
   "cell_type": "code",
   "execution_count": 87,
   "id": "6d99a210",
   "metadata": {},
   "outputs": [
    {
     "name": "stdout",
     "output_type": "stream",
     "text": [
      "[1 2 3 4 5 6] [3 3 1 2 2 1]\n"
     ]
    }
   ],
   "source": [
    "x1,y1=np.unique(x,return_counts=True)\n",
    "print(x1,y1)"
   ]
  },
  {
   "cell_type": "code",
   "execution_count": 88,
   "id": "fcd8e08b",
   "metadata": {},
   "outputs": [
    {
     "data": {
      "text/plain": [
       "array([[1, 2, 3],\n",
       "       [4, 5, 6],\n",
       "       [7, 8, 9]])"
      ]
     },
     "execution_count": 88,
     "metadata": {},
     "output_type": "execute_result"
    }
   ],
   "source": [
    "x1=np.arange(1,10).reshape(3,3)\n",
    "x1\n"
   ]
  },
  {
   "cell_type": "code",
   "execution_count": 89,
   "id": "070204d0",
   "metadata": {},
   "outputs": [
    {
     "data": {
      "text/plain": [
       "(array([1, 2, 3, 4, 5, 6, 7, 8, 9]),\n",
       " array([1, 1, 1, 1, 1, 1, 1, 1, 1], dtype=int64))"
      ]
     },
     "execution_count": 89,
     "metadata": {},
     "output_type": "execute_result"
    }
   ],
   "source": [
    "np.unique(x1,return_counts=True,)"
   ]
  },
  {
   "cell_type": "code",
   "execution_count": 90,
   "id": "fda84224",
   "metadata": {},
   "outputs": [],
   "source": [
    "# transpose --- on 1d"
   ]
  },
  {
   "cell_type": "code",
   "execution_count": 4,
   "id": "4026fe06",
   "metadata": {},
   "outputs": [
    {
     "name": "stdout",
     "output_type": "stream",
     "text": [
      "\n",
      "Transpose of Array: \n",
      "[[4 2]\n",
      " [7 6]]\n"
     ]
    }
   ],
   "source": [
    "arr1 = np.array([[4, 7], [2, 6]])\n",
    "Trans_arr = arr1.T         # Transpose of Array (Columans become rows and rows become columns)\n",
    "print(\"\\nTranspose of Array: \")\n",
    "print(Trans_arr)"
   ]
  },
  {
   "cell_type": "code",
   "execution_count": 98,
   "id": "5c1c0a17",
   "metadata": {},
   "outputs": [
    {
     "data": {
      "text/plain": [
       "array([[1],\n",
       "       [2],\n",
       "       [3],\n",
       "       [4],\n",
       "       [5],\n",
       "       [6],\n",
       "       [7],\n",
       "       [8],\n",
       "       [9]])"
      ]
     },
     "execution_count": 98,
     "metadata": {},
     "output_type": "execute_result"
    }
   ],
   "source": [
    "x1=np.arange(1,10).reshape(9,1)\n",
    "x1"
   ]
  },
  {
   "cell_type": "code",
   "execution_count": 99,
   "id": "fe789125",
   "metadata": {},
   "outputs": [
    {
     "data": {
      "text/plain": [
       "(9, 1)"
      ]
     },
     "execution_count": 99,
     "metadata": {},
     "output_type": "execute_result"
    }
   ],
   "source": [
    "x1.shape"
   ]
  },
  {
   "cell_type": "code",
   "execution_count": 100,
   "id": "4285e245",
   "metadata": {},
   "outputs": [
    {
     "data": {
      "text/plain": [
       "array([[1, 2, 3, 4, 5, 6, 7, 8, 9]])"
      ]
     },
     "execution_count": 100,
     "metadata": {},
     "output_type": "execute_result"
    }
   ],
   "source": [
    "x1=x1.T\n",
    "x1"
   ]
  },
  {
   "cell_type": "code",
   "execution_count": 101,
   "id": "1005e53c",
   "metadata": {},
   "outputs": [
    {
     "data": {
      "text/plain": [
       "(1, 9)"
      ]
     },
     "execution_count": 101,
     "metadata": {},
     "output_type": "execute_result"
    }
   ],
   "source": [
    "x1.shape"
   ]
  },
  {
   "cell_type": "code",
   "execution_count": 102,
   "id": "68a68ed7",
   "metadata": {},
   "outputs": [
    {
     "data": {
      "text/plain": [
       "array([[1],\n",
       "       [2],\n",
       "       [3],\n",
       "       [4],\n",
       "       [5],\n",
       "       [6],\n",
       "       [7],\n",
       "       [8],\n",
       "       [9]])"
      ]
     },
     "execution_count": 102,
     "metadata": {},
     "output_type": "execute_result"
    }
   ],
   "source": [
    "x1=x1.T\n",
    "x1"
   ]
  },
  {
   "cell_type": "code",
   "execution_count": 103,
   "id": "021e7064",
   "metadata": {},
   "outputs": [],
   "source": [
    "# how to flatten your arrays"
   ]
  },
  {
   "cell_type": "code",
   "execution_count": 104,
   "id": "dad04eee",
   "metadata": {},
   "outputs": [],
   "source": [
    "#flatten() --copy\n",
    "#ravel()   -- view"
   ]
  },
  {
   "cell_type": "code",
   "execution_count": 3,
   "id": "f308db90",
   "metadata": {},
   "outputs": [
    {
     "data": {
      "text/plain": [
       "array([0, 1, 2, 3, 4, 5])"
      ]
     },
     "execution_count": 3,
     "metadata": {},
     "output_type": "execute_result"
    }
   ],
   "source": [
    "a = np.array([[0, 1, 2], [3, 4, 5]])\n",
    "a.ravel()"
   ]
  },
  {
   "cell_type": "code",
   "execution_count": 106,
   "id": "568cb351",
   "metadata": {},
   "outputs": [
    {
     "data": {
      "text/plain": [
       "array([[1, 2, 3],\n",
       "       [4, 5, 6],\n",
       "       [7, 8, 9]])"
      ]
     },
     "execution_count": 106,
     "metadata": {},
     "output_type": "execute_result"
    }
   ],
   "source": [
    "x1=np.arange(1,10).reshape(3,3)\n",
    "x1"
   ]
  },
  {
   "cell_type": "code",
   "execution_count": 107,
   "id": "9eedf8b6",
   "metadata": {},
   "outputs": [
    {
     "data": {
      "text/plain": [
       "array([1, 2, 3, 4, 5, 6, 7, 8, 9])"
      ]
     },
     "execution_count": 107,
     "metadata": {},
     "output_type": "execute_result"
    }
   ],
   "source": [
    "x1.flatten()"
   ]
  },
  {
   "cell_type": "code",
   "execution_count": 108,
   "id": "1d340450",
   "metadata": {},
   "outputs": [
    {
     "data": {
      "text/plain": [
       "array([1, 2, 3, 4, 5, 6, 7, 8, 9])"
      ]
     },
     "execution_count": 108,
     "metadata": {},
     "output_type": "execute_result"
    }
   ],
   "source": [
    "x1.ravel()"
   ]
  },
  {
   "cell_type": "code",
   "execution_count": 110,
   "id": "85200ff0",
   "metadata": {},
   "outputs": [
    {
     "name": "stdout",
     "output_type": "stream",
     "text": [
      "[[1 2 3]\n",
      " [4 5 6]\n",
      " [7 8 9]]\n",
      "\n",
      "\n",
      "[1 2 3 4 5 6 7 8 9]\n"
     ]
    }
   ],
   "source": [
    "y=x1.ravel()\n",
    "print(x1)\n",
    "print('\\n')\n",
    "print(y)"
   ]
  },
  {
   "cell_type": "code",
   "execution_count": 111,
   "id": "070e1a5e",
   "metadata": {},
   "outputs": [
    {
     "data": {
      "text/plain": [
       "array([0, 2, 3, 4, 5, 6, 7, 8, 9])"
      ]
     },
     "execution_count": 111,
     "metadata": {},
     "output_type": "execute_result"
    }
   ],
   "source": [
    "y[0]=0\n",
    "y"
   ]
  },
  {
   "cell_type": "code",
   "execution_count": 112,
   "id": "325f9577",
   "metadata": {},
   "outputs": [
    {
     "data": {
      "text/plain": [
       "array([[0, 2, 3],\n",
       "       [4, 5, 6],\n",
       "       [7, 8, 9]])"
      ]
     },
     "execution_count": 112,
     "metadata": {},
     "output_type": "execute_result"
    }
   ],
   "source": [
    "x1"
   ]
  },
  {
   "cell_type": "code",
   "execution_count": 113,
   "id": "f57461cf",
   "metadata": {},
   "outputs": [
    {
     "data": {
      "text/plain": [
       "array([0, 2, 3, 4, 5, 6, 7, 8, 9])"
      ]
     },
     "execution_count": 113,
     "metadata": {},
     "output_type": "execute_result"
    }
   ],
   "source": [
    "z=x1.flatten()\n",
    "z"
   ]
  },
  {
   "cell_type": "code",
   "execution_count": 114,
   "id": "a87b9ae2",
   "metadata": {},
   "outputs": [
    {
     "data": {
      "text/plain": [
       "array([100,   2,   3,   4,   5,   6,   7,   8,   9])"
      ]
     },
     "execution_count": 114,
     "metadata": {},
     "output_type": "execute_result"
    }
   ],
   "source": [
    "z[0]=100\n",
    "z"
   ]
  },
  {
   "cell_type": "code",
   "execution_count": 115,
   "id": "25ad7548",
   "metadata": {},
   "outputs": [
    {
     "data": {
      "text/plain": [
       "array([[0, 2, 3],\n",
       "       [4, 5, 6],\n",
       "       [7, 8, 9]])"
      ]
     },
     "execution_count": 115,
     "metadata": {},
     "output_type": "execute_result"
    }
   ],
   "source": [
    "x1"
   ]
  },
  {
   "cell_type": "code",
   "execution_count": 116,
   "id": "c385b12b",
   "metadata": {},
   "outputs": [],
   "source": [
    "#how to repeat the elements n numer of time"
   ]
  },
  {
   "cell_type": "code",
   "execution_count": 117,
   "id": "61dedab1",
   "metadata": {},
   "outputs": [
    {
     "data": {
      "text/plain": [
       "array([1, 2, 3, 4])"
      ]
     },
     "execution_count": 117,
     "metadata": {},
     "output_type": "execute_result"
    }
   ],
   "source": [
    "x=np.array([1,2,3,4])\n",
    "x"
   ]
  },
  {
   "cell_type": "code",
   "execution_count": 119,
   "id": "ce0c05f1",
   "metadata": {},
   "outputs": [
    {
     "name": "stdout",
     "output_type": "stream",
     "text": [
      "[1 1 2 2 3 3 4 4]\n",
      "[1 1 1 1 1 1 1 2 2 2 2 2 2 2 3 3 3 3 3 3 3 4 4 4 4 4 4 4]\n"
     ]
    }
   ],
   "source": [
    "print(np.repeat(x,2))\n",
    "print(np.repeat(x,7))"
   ]
  },
  {
   "cell_type": "code",
   "execution_count": 120,
   "id": "cf0a7d3d",
   "metadata": {},
   "outputs": [
    {
     "data": {
      "text/plain": [
       "array([[0, 2, 3],\n",
       "       [4, 5, 6],\n",
       "       [7, 8, 9]])"
      ]
     },
     "execution_count": 120,
     "metadata": {},
     "output_type": "execute_result"
    }
   ],
   "source": [
    "x1\n"
   ]
  },
  {
   "cell_type": "code",
   "execution_count": 121,
   "id": "ae45f198",
   "metadata": {},
   "outputs": [
    {
     "data": {
      "text/plain": [
       "array([0, 0, 2, 2, 3, 3, 4, 4, 5, 5, 6, 6, 7, 7, 8, 8, 9, 9])"
      ]
     },
     "execution_count": 121,
     "metadata": {},
     "output_type": "execute_result"
    }
   ],
   "source": [
    "np.repeat(x1,2)"
   ]
  },
  {
   "cell_type": "code",
   "execution_count": 122,
   "id": "5dd648ea",
   "metadata": {},
   "outputs": [
    {
     "data": {
      "text/plain": [
       "array([0, 0, 2, 2, 3, 3, 4, 4, 5, 5, 6, 6, 7, 7, 8, 8, 9, 9])"
      ]
     },
     "execution_count": 122,
     "metadata": {},
     "output_type": "execute_result"
    }
   ],
   "source": [
    "np.repeat(x1,2)"
   ]
  },
  {
   "cell_type": "code",
   "execution_count": 124,
   "id": "fb5670d0",
   "metadata": {},
   "outputs": [
    {
     "data": {
      "text/plain": [
       "array([0, 0])"
      ]
     },
     "execution_count": 124,
     "metadata": {},
     "output_type": "execute_result"
    }
   ],
   "source": [
    "y=x1[0,0]\n",
    "np.repeat(y,2)"
   ]
  },
  {
   "cell_type": "code",
   "execution_count": 125,
   "id": "8de680dc",
   "metadata": {},
   "outputs": [
    {
     "data": {
      "text/plain": [
       "array([[0, 2, 3],\n",
       "       [4, 5, 6],\n",
       "       [7, 8, 9]])"
      ]
     },
     "execution_count": 125,
     "metadata": {},
     "output_type": "execute_result"
    }
   ],
   "source": [
    "#how to repeaat the arrays n number of time\n",
    "x1"
   ]
  },
  {
   "cell_type": "code",
   "execution_count": 126,
   "id": "74628b7a",
   "metadata": {},
   "outputs": [
    {
     "data": {
      "text/plain": [
       "array([[0, 2, 3, 0, 2, 3],\n",
       "       [4, 5, 6, 4, 5, 6],\n",
       "       [7, 8, 9, 7, 8, 9]])"
      ]
     },
     "execution_count": 126,
     "metadata": {},
     "output_type": "execute_result"
    }
   ],
   "source": [
    "np.tile(x1,2)"
   ]
  },
  {
   "cell_type": "code",
   "execution_count": 127,
   "id": "07ba6d9a",
   "metadata": {},
   "outputs": [
    {
     "data": {
      "text/plain": [
       "array([[0, 2, 3, 0, 2, 3],\n",
       "       [4, 5, 6, 4, 5, 6],\n",
       "       [7, 8, 9, 7, 8, 9]])"
      ]
     },
     "execution_count": 127,
     "metadata": {},
     "output_type": "execute_result"
    }
   ],
   "source": [
    "np.tile(x1,(1,2))"
   ]
  },
  {
   "cell_type": "code",
   "execution_count": 128,
   "id": "1a320712",
   "metadata": {},
   "outputs": [
    {
     "data": {
      "text/plain": [
       "array([[0, 2, 3, 0, 2, 3, 0, 2, 3],\n",
       "       [4, 5, 6, 4, 5, 6, 4, 5, 6],\n",
       "       [7, 8, 9, 7, 8, 9, 7, 8, 9]])"
      ]
     },
     "execution_count": 128,
     "metadata": {},
     "output_type": "execute_result"
    }
   ],
   "source": [
    "np.tile(x1,(1,3))"
   ]
  },
  {
   "cell_type": "code",
   "execution_count": 129,
   "id": "dbea6cb2",
   "metadata": {},
   "outputs": [
    {
     "data": {
      "text/plain": [
       "array([[0, 2, 3],\n",
       "       [4, 5, 6],\n",
       "       [7, 8, 9],\n",
       "       [0, 2, 3],\n",
       "       [4, 5, 6],\n",
       "       [7, 8, 9]])"
      ]
     },
     "execution_count": 129,
     "metadata": {},
     "output_type": "execute_result"
    }
   ],
   "source": [
    "np.tile(x1,(2,1))"
   ]
  },
  {
   "cell_type": "code",
   "execution_count": 130,
   "id": "32996fbf",
   "metadata": {},
   "outputs": [
    {
     "data": {
      "text/plain": [
       "array([[0, 2, 3],\n",
       "       [4, 5, 6],\n",
       "       [7, 8, 9],\n",
       "       [0, 2, 3],\n",
       "       [4, 5, 6],\n",
       "       [7, 8, 9],\n",
       "       [0, 2, 3],\n",
       "       [4, 5, 6],\n",
       "       [7, 8, 9]])"
      ]
     },
     "execution_count": 130,
     "metadata": {},
     "output_type": "execute_result"
    }
   ],
   "source": [
    "np.tile(x1,(3,1))"
   ]
  },
  {
   "cell_type": "code",
   "execution_count": null,
   "id": "e9d8180d",
   "metadata": {},
   "outputs": [],
   "source": [
    "# 19 Aug 2022"
   ]
  },
  {
   "cell_type": "code",
   "execution_count": 3,
   "id": "db0cf232",
   "metadata": {},
   "outputs": [],
   "source": [
    "import numpy as np"
   ]
  },
  {
   "cell_type": "code",
   "execution_count": 4,
   "id": "e7593e39",
   "metadata": {},
   "outputs": [
    {
     "data": {
      "text/plain": [
       "array([1, 4, 7, 5, 8, 1, 5, 9, 1, 8])"
      ]
     },
     "execution_count": 4,
     "metadata": {},
     "output_type": "execute_result"
    }
   ],
   "source": [
    "x=np.random.randint(1,10,(10,))\n",
    "x"
   ]
  },
  {
   "cell_type": "code",
   "execution_count": 5,
   "id": "c566deb5",
   "metadata": {},
   "outputs": [
    {
     "data": {
      "text/plain": [
       "array([False,  True,  True,  True,  True, False,  True,  True, False,\n",
       "        True])"
      ]
     },
     "execution_count": 5,
     "metadata": {},
     "output_type": "execute_result"
    }
   ],
   "source": [
    "x>3 # since it is a condition it returns you a Boolean Dtype"
   ]
  },
  {
   "cell_type": "code",
   "execution_count": 6,
   "id": "402b816d",
   "metadata": {},
   "outputs": [
    {
     "data": {
      "text/plain": [
       "array([4, 7, 5, 8, 5, 9, 8])"
      ]
     },
     "execution_count": 6,
     "metadata": {},
     "output_type": "execute_result"
    }
   ],
   "source": [
    "x[x>3] #by keeping the mask we can get the values that are greater then 3"
   ]
  },
  {
   "cell_type": "code",
   "execution_count": 7,
   "id": "53d5d6e2",
   "metadata": {},
   "outputs": [],
   "source": [
    "# By using the masking condition we can get the values that are True, but cant the Index Values So..\n",
    "# To know the index values of those True Values we need to use the \"where()\" Function.\n",
    "# \"np.where(condition,True,False)\""
   ]
  },
  {
   "cell_type": "code",
   "execution_count": 8,
   "id": "5f4353d3",
   "metadata": {},
   "outputs": [],
   "source": [
    "# Application of where function on 1d- array"
   ]
  },
  {
   "cell_type": "code",
   "execution_count": 9,
   "id": "76130f1a",
   "metadata": {},
   "outputs": [
    {
     "data": {
      "text/plain": [
       "array([1, 4, 7, 5, 8, 1, 5, 9, 1, 8])"
      ]
     },
     "execution_count": 9,
     "metadata": {},
     "output_type": "execute_result"
    }
   ],
   "source": [
    "x"
   ]
  },
  {
   "cell_type": "code",
   "execution_count": 15,
   "id": "a968ebe7",
   "metadata": {},
   "outputs": [
    {
     "data": {
      "text/plain": [
       "array([4, 7, 5, 8, 5, 9, 8])"
      ]
     },
     "execution_count": 15,
     "metadata": {},
     "output_type": "execute_result"
    }
   ],
   "source": [
    "m=x[x>3]\n",
    "m"
   ]
  },
  {
   "cell_type": "code",
   "execution_count": 16,
   "id": "d654e2b0",
   "metadata": {},
   "outputs": [
    {
     "data": {
      "text/plain": [
       "(array([0, 1, 2, 3, 4, 5, 6], dtype=int64),)"
      ]
     },
     "execution_count": 16,
     "metadata": {},
     "output_type": "execute_result"
    }
   ],
   "source": [
    "np.where(x[x>3]) # the values that are going to return are Index Values of the Given Arrary"
   ]
  },
  {
   "cell_type": "code",
   "execution_count": 17,
   "id": "0cbe7c2a",
   "metadata": {},
   "outputs": [],
   "source": [
    "# to get back your indexing values to the True values use \"take()\"\"\n",
    "#take function is only applicable on 1dim."
   ]
  },
  {
   "cell_type": "code",
   "execution_count": 18,
   "id": "de183821",
   "metadata": {},
   "outputs": [
    {
     "data": {
      "text/plain": [
       "array([[1, 4, 7, 5, 8, 1, 5]])"
      ]
     },
     "execution_count": 18,
     "metadata": {},
     "output_type": "execute_result"
    }
   ],
   "source": [
    "n=x.take(np.where(x[x>3]))\n",
    "n"
   ]
  },
  {
   "cell_type": "code",
   "execution_count": 19,
   "id": "c8d01656",
   "metadata": {},
   "outputs": [
    {
     "data": {
      "text/plain": [
       "array([[False, False, False, False, False, False, False]])"
      ]
     },
     "execution_count": 19,
     "metadata": {},
     "output_type": "execute_result"
    }
   ],
   "source": [
    "m==n"
   ]
  },
  {
   "cell_type": "code",
   "execution_count": 20,
   "id": "759f9d16",
   "metadata": {},
   "outputs": [],
   "source": [
    "# Application of where function on 2d- array"
   ]
  },
  {
   "cell_type": "code",
   "execution_count": 43,
   "id": "973c3b24",
   "metadata": {},
   "outputs": [
    {
     "data": {
      "text/plain": [
       "array([[7, 5, 5, 6, 3],\n",
       "       [9, 4, 6, 9, 9],\n",
       "       [1, 1, 1, 5, 6],\n",
       "       [2, 4, 8, 4, 9]])"
      ]
     },
     "execution_count": 43,
     "metadata": {},
     "output_type": "execute_result"
    }
   ],
   "source": [
    "x1=np.random.randint(1,10,(4,5))\n",
    "x1"
   ]
  },
  {
   "cell_type": "code",
   "execution_count": 44,
   "id": "82a2e928",
   "metadata": {},
   "outputs": [
    {
     "data": {
      "text/plain": [
       "array([7, 5, 5, 6, 9, 4, 6, 9, 9, 5, 6, 4, 8, 4, 9])"
      ]
     },
     "execution_count": 44,
     "metadata": {},
     "output_type": "execute_result"
    }
   ],
   "source": [
    "x1[x1>3]"
   ]
  },
  {
   "cell_type": "code",
   "execution_count": 45,
   "id": "5cdf713d",
   "metadata": {},
   "outputs": [
    {
     "data": {
      "text/plain": [
       "(array([0, 0, 0, 0, 1, 1, 1, 1, 1, 2, 2, 3, 3, 3, 3], dtype=int64),\n",
       " array([0, 1, 2, 3, 0, 1, 2, 3, 4, 3, 4, 1, 2, 3, 4], dtype=int64))"
      ]
     },
     "execution_count": 45,
     "metadata": {},
     "output_type": "execute_result"
    }
   ],
   "source": [
    "np.where(x1>3)"
   ]
  },
  {
   "cell_type": "code",
   "execution_count": null,
   "id": "d88032eb",
   "metadata": {},
   "outputs": [],
   "source": [
    "''' this the indiexing values of the True condition in [rows][colunm]\n",
    "[0, 0, 0, 0, 1, 1, 1, 1, 1, 2, 2, 3, 3, 3, 3]\n",
    "[0, 1, 2, 3, 0, 1, 2, 3, 4, 3, 4, 1, 2, 3, 4]'''"
   ]
  },
  {
   "cell_type": "code",
   "execution_count": 46,
   "id": "9d956aa6",
   "metadata": {},
   "outputs": [],
   "source": [
    "# take will not work on 2dim arrays /***\\"
   ]
  },
  {
   "cell_type": "code",
   "execution_count": 49,
   "id": "a526102b",
   "metadata": {},
   "outputs": [
    {
     "data": {
      "text/plain": [
       "array([59, 60, 61, 62, 63, 64, 65, 66, 67, 68])"
      ]
     },
     "execution_count": 49,
     "metadata": {},
     "output_type": "execute_result"
    }
   ],
   "source": [
    "x2=np.arange(59,69).reshape(10,)\n",
    "x2"
   ]
  },
  {
   "cell_type": "code",
   "execution_count": null,
   "id": "d829507a",
   "metadata": {},
   "outputs": [],
   "source": [
    "# np.where(condition,True,False)"
   ]
  },
  {
   "cell_type": "code",
   "execution_count": 51,
   "id": "3f40a0dd",
   "metadata": {},
   "outputs": [
    {
     "data": {
      "text/plain": [
       "array(['notdivisible', 'divisible', 'notdivisible', 'notdivisible',\n",
       "       'divisible', 'notdivisible', 'notdivisible', 'divisible',\n",
       "       'notdivisible', 'notdivisible'], dtype='<U12')"
      ]
     },
     "execution_count": 51,
     "metadata": {},
     "output_type": "execute_result"
    }
   ],
   "source": [
    "np.where(x%3==0,'divisible','notdivisible')"
   ]
  },
  {
   "cell_type": "code",
   "execution_count": 53,
   "id": "7bb51443",
   "metadata": {},
   "outputs": [
    {
     "data": {
      "text/plain": [
       "array([[59, 60, 61],\n",
       "       [62, 63, 64],\n",
       "       [65, 66, 67]])"
      ]
     },
     "execution_count": 53,
     "metadata": {},
     "output_type": "execute_result"
    }
   ],
   "source": [
    "x3=np.arange(59,68).reshape(3,3)\n",
    "x3"
   ]
  },
  {
   "cell_type": "code",
   "execution_count": 55,
   "id": "dde90113",
   "metadata": {},
   "outputs": [
    {
     "data": {
      "text/plain": [
       "array(['notdivi', 'divi', 'notdivi', 'notdivi', 'divi', 'notdivi',\n",
       "       'notdivi', 'divi', 'notdivi', 'notdivi'], dtype='<U7')"
      ]
     },
     "execution_count": 55,
     "metadata": {},
     "output_type": "execute_result"
    }
   ],
   "source": [
    "np.where(x%3==0,'divi','notdivi')"
   ]
  },
  {
   "cell_type": "code",
   "execution_count": null,
   "id": "41cb51f0",
   "metadata": {},
   "outputs": [],
   "source": [
    "# to know the index value we can use 'arg()'. np.arg()"
   ]
  },
  {
   "cell_type": "code",
   "execution_count": 68,
   "id": "1ce4e698",
   "metadata": {},
   "outputs": [
    {
     "data": {
      "text/plain": [
       "array([8, 8, 4, 4, 9, 3, 8, 5, 6, 6])"
      ]
     },
     "execution_count": 68,
     "metadata": {},
     "output_type": "execute_result"
    }
   ],
   "source": [
    "x6=np.random.randint(1,10,(10,))\n",
    "x6"
   ]
  },
  {
   "cell_type": "code",
   "execution_count": 69,
   "id": "a42f7bfb",
   "metadata": {},
   "outputs": [
    {
     "data": {
      "text/plain": [
       "5"
      ]
     },
     "execution_count": 69,
     "metadata": {},
     "output_type": "execute_result"
    }
   ],
   "source": [
    "np.argmin(x6) # it will return you a index value of the min valu in given array"
   ]
  },
  {
   "cell_type": "code",
   "execution_count": 70,
   "id": "bafd7348",
   "metadata": {},
   "outputs": [
    {
     "data": {
      "text/plain": [
       "4"
      ]
     },
     "execution_count": 70,
     "metadata": {},
     "output_type": "execute_result"
    }
   ],
   "source": [
    "np.argmax(x6) # it will return you a index value of the maxi valu in given array"
   ]
  },
  {
   "cell_type": "code",
   "execution_count": 72,
   "id": "a2d7d55e",
   "metadata": {},
   "outputs": [],
   "source": [
    "# argwhere()  also retuns you index vales as where \"np.argwhere(condition)\""
   ]
  },
  {
   "cell_type": "code",
   "execution_count": 84,
   "id": "2e3f8a89",
   "metadata": {},
   "outputs": [
    {
     "data": {
      "text/plain": [
       "array([[0, 1, 2],\n",
       "       [3, 4, 5]])"
      ]
     },
     "execution_count": 84,
     "metadata": {},
     "output_type": "execute_result"
    }
   ],
   "source": [
    "x7= np.arange(6).reshape(2,3)\n",
    "x7\n"
   ]
  },
  {
   "cell_type": "code",
   "execution_count": 85,
   "id": "0f065f5a",
   "metadata": {},
   "outputs": [
    {
     "data": {
      "text/plain": [
       "array([[0, 2],\n",
       "       [1, 0],\n",
       "       [1, 1],\n",
       "       [1, 2]], dtype=int64)"
      ]
     },
     "execution_count": 85,
     "metadata": {},
     "output_type": "execute_result"
    }
   ],
   "source": [
    "np.argwhere(x7>1)"
   ]
  },
  {
   "cell_type": "code",
   "execution_count": 87,
   "id": "6dcc98fc",
   "metadata": {},
   "outputs": [
    {
     "data": {
      "text/plain": [
       "(array([0, 1, 1, 1], dtype=int64), array([2, 0, 1, 2], dtype=int64))"
      ]
     },
     "execution_count": 87,
     "metadata": {},
     "output_type": "execute_result"
    }
   ],
   "source": [
    "np.where(x7>1)"
   ]
  },
  {
   "cell_type": "code",
   "execution_count": null,
   "id": "1d95fc7d",
   "metadata": {},
   "outputs": [],
   "source": [
    "# Combining two or more arrays into a single array using concatenate()\n",
    "#np.concatenate([array1,array2])\n"
   ]
  },
  {
   "cell_type": "code",
   "execution_count": 56,
   "id": "0b088e0b",
   "metadata": {},
   "outputs": [
    {
     "data": {
      "text/plain": [
       "array([[62, 62, 62],\n",
       "       [67, 64, 64],\n",
       "       [67, 65, 66]])"
      ]
     },
     "execution_count": 56,
     "metadata": {},
     "output_type": "execute_result"
    }
   ],
   "source": [
    "x4=np.random.randint(61,69,(3,3))\n",
    "x5=np.random.randint(51,59,(3,3))\n",
    "x4\n"
   ]
  },
  {
   "cell_type": "code",
   "execution_count": 57,
   "id": "0a6647b0",
   "metadata": {},
   "outputs": [
    {
     "data": {
      "text/plain": [
       "array([[53, 54, 52],\n",
       "       [57, 57, 53],\n",
       "       [58, 51, 52]])"
      ]
     },
     "execution_count": 57,
     "metadata": {},
     "output_type": "execute_result"
    }
   ],
   "source": [
    "x5"
   ]
  },
  {
   "cell_type": "code",
   "execution_count": 58,
   "id": "d0b3b12d",
   "metadata": {},
   "outputs": [
    {
     "data": {
      "text/plain": [
       "array([[62, 62, 62],\n",
       "       [67, 64, 64],\n",
       "       [67, 65, 66],\n",
       "       [53, 54, 52],\n",
       "       [57, 57, 53],\n",
       "       [58, 51, 52]])"
      ]
     },
     "execution_count": 58,
     "metadata": {},
     "output_type": "execute_result"
    }
   ],
   "source": [
    "np.concatenate([x4,x5]) # default it arranges row wise (one below the other)"
   ]
  },
  {
   "cell_type": "code",
   "execution_count": 59,
   "id": "fe2ca41c",
   "metadata": {},
   "outputs": [
    {
     "data": {
      "text/plain": [
       "array([[62, 62, 62],\n",
       "       [67, 64, 64],\n",
       "       [67, 65, 66],\n",
       "       [53, 54, 52],\n",
       "       [57, 57, 53],\n",
       "       [58, 51, 52]])"
      ]
     },
     "execution_count": 59,
     "metadata": {},
     "output_type": "execute_result"
    }
   ],
   "source": [
    "np.concatenate([x4,x5],axis=0) # it arrang the 2nd array below to first arry"
   ]
  },
  {
   "cell_type": "code",
   "execution_count": 60,
   "id": "2b1cbbfa",
   "metadata": {},
   "outputs": [
    {
     "data": {
      "text/plain": [
       "array([[62, 62, 62, 53, 54, 52],\n",
       "       [67, 64, 64, 57, 57, 53],\n",
       "       [67, 65, 66, 58, 51, 52]])"
      ]
     },
     "execution_count": 60,
     "metadata": {},
     "output_type": "execute_result"
    }
   ],
   "source": [
    "np.concatenate([x4,x5],axis=1) # it arrang the 2nd array next side to first arry"
   ]
  },
  {
   "cell_type": "code",
   "execution_count": 61,
   "id": "b318f79e",
   "metadata": {},
   "outputs": [],
   "source": [
    "# 'hstack()' and 'Vstack()' functions"
   ]
  },
  {
   "cell_type": "code",
   "execution_count": null,
   "id": "5b92f3e1",
   "metadata": {},
   "outputs": [],
   "source": [
    "# 'hstack()' and 'Vstack() are similar to concatenate function Thet donot use axis\n",
    "# np.hstack() concatenate horizontally(beside) and np.vstack() concatinate vertically(down`)"
   ]
  },
  {
   "cell_type": "code",
   "execution_count": 62,
   "id": "dd4ac9d9",
   "metadata": {},
   "outputs": [
    {
     "data": {
      "text/plain": [
       "array([[62, 62, 62],\n",
       "       [67, 64, 64],\n",
       "       [67, 65, 66]])"
      ]
     },
     "execution_count": 62,
     "metadata": {},
     "output_type": "execute_result"
    }
   ],
   "source": [
    "x4"
   ]
  },
  {
   "cell_type": "code",
   "execution_count": 63,
   "id": "6748b443",
   "metadata": {},
   "outputs": [
    {
     "data": {
      "text/plain": [
       "array([[53, 54, 52],\n",
       "       [57, 57, 53],\n",
       "       [58, 51, 52]])"
      ]
     },
     "execution_count": 63,
     "metadata": {},
     "output_type": "execute_result"
    }
   ],
   "source": [
    "x5"
   ]
  },
  {
   "cell_type": "code",
   "execution_count": 65,
   "id": "95bd9ab2",
   "metadata": {},
   "outputs": [
    {
     "data": {
      "text/plain": [
       "array([[62, 62, 62, 53, 54, 52],\n",
       "       [67, 64, 64, 57, 57, 53],\n",
       "       [67, 65, 66, 58, 51, 52]])"
      ]
     },
     "execution_count": 65,
     "metadata": {},
     "output_type": "execute_result"
    }
   ],
   "source": [
    "np.hstack([x4,x5])"
   ]
  },
  {
   "cell_type": "code",
   "execution_count": 66,
   "id": "1d2be600",
   "metadata": {},
   "outputs": [
    {
     "data": {
      "text/plain": [
       "array([[62, 62, 62],\n",
       "       [67, 64, 64],\n",
       "       [67, 65, 66],\n",
       "       [53, 54, 52],\n",
       "       [57, 57, 53],\n",
       "       [58, 51, 52]])"
      ]
     },
     "execution_count": 66,
     "metadata": {},
     "output_type": "execute_result"
    }
   ],
   "source": [
    "np.vstack([x4,x5])"
   ]
  },
  {
   "cell_type": "code",
   "execution_count": 88,
   "id": "6a3908c6",
   "metadata": {},
   "outputs": [],
   "source": [
    "# Logical Operators \"and\" and 'or' # returns a boolen data"
   ]
  },
  {
   "cell_type": "code",
   "execution_count": 90,
   "id": "41d0a415",
   "metadata": {},
   "outputs": [
    {
     "data": {
      "text/plain": [
       "array([ True,  True,  True,  True])"
      ]
     },
     "execution_count": 90,
     "metadata": {},
     "output_type": "execute_result"
    }
   ],
   "source": [
    "x8=np.array([1,2,3,4])\n",
    "x9=np.array([11,22,33,44])\n",
    "np.logical_and(x8,x9)"
   ]
  },
  {
   "cell_type": "code",
   "execution_count": null,
   "id": "94c44679",
   "metadata": {},
   "outputs": [],
   "source": [
    "#hear comparision is done on elementwise and returns true if both the condition are true else False"
   ]
  },
  {
   "cell_type": "code",
   "execution_count": 93,
   "id": "7bbe41ce",
   "metadata": {},
   "outputs": [
    {
     "data": {
      "text/plain": [
       "array([False,  True,  True,  True])"
      ]
     },
     "execution_count": 93,
     "metadata": {},
     "output_type": "execute_result"
    }
   ],
   "source": [
    "x10=np.array([0,22,33,44])\n",
    "np.logical_and(x9,x10)"
   ]
  },
  {
   "cell_type": "code",
   "execution_count": 94,
   "id": "3ba91486",
   "metadata": {},
   "outputs": [
    {
     "data": {
      "text/plain": [
       "array([ True,  True,  True,  True])"
      ]
     },
     "execution_count": 94,
     "metadata": {},
     "output_type": "execute_result"
    }
   ],
   "source": [
    "x8=np.array([1,2,3,4])\n",
    "x9=np.array([11,22,33,44])\n",
    "np.logical_or(x8,x9)"
   ]
  },
  {
   "cell_type": "code",
   "execution_count": null,
   "id": "f3e6c551",
   "metadata": {},
   "outputs": [],
   "source": [
    "#hear comparision is done on elementwise and returns true if any of the condition are true "
   ]
  },
  {
   "cell_type": "code",
   "execution_count": 95,
   "id": "b50d6116",
   "metadata": {},
   "outputs": [
    {
     "data": {
      "text/plain": [
       "array([ True,  True,  True,  True])"
      ]
     },
     "execution_count": 95,
     "metadata": {},
     "output_type": "execute_result"
    }
   ],
   "source": [
    "x10=np.array([0,22,33,44])\n",
    "np.logical_or(x9,x10)"
   ]
  },
  {
   "cell_type": "code",
   "execution_count": 96,
   "id": "0189990c",
   "metadata": {},
   "outputs": [],
   "source": [
    "#np.all() and np.any() "
   ]
  },
  {
   "cell_type": "code",
   "execution_count": 97,
   "id": "c06a3d0e",
   "metadata": {},
   "outputs": [],
   "source": [
    "# np.all -> will work on single arraay and retun true if all elements in the array are true"
   ]
  },
  {
   "cell_type": "code",
   "execution_count": 98,
   "id": "d476b7d2",
   "metadata": {},
   "outputs": [],
   "source": [
    "# np.any() -> will work on single arraay and retun true if any one elements in the array is true"
   ]
  },
  {
   "cell_type": "code",
   "execution_count": 100,
   "id": "6206f3c4",
   "metadata": {},
   "outputs": [
    {
     "data": {
      "text/plain": [
       "array([ 0,  2,  4,  6,  8, 10, 12, 14, 16, 18])"
      ]
     },
     "execution_count": 100,
     "metadata": {},
     "output_type": "execute_result"
    }
   ],
   "source": [
    "y1=np.arange(0,20,2).reshape(10,)\n",
    "y1"
   ]
  },
  {
   "cell_type": "code",
   "execution_count": 101,
   "id": "db856542",
   "metadata": {},
   "outputs": [
    {
     "data": {
      "text/plain": [
       "array([ True,  True,  True,  True,  True,  True,  True,  True,  True,\n",
       "        True])"
      ]
     },
     "execution_count": 101,
     "metadata": {},
     "output_type": "execute_result"
    }
   ],
   "source": [
    "y1%2==0"
   ]
  },
  {
   "cell_type": "code",
   "execution_count": 103,
   "id": "f20ca0cc",
   "metadata": {},
   "outputs": [
    {
     "data": {
      "text/plain": [
       "True"
      ]
     },
     "execution_count": 103,
     "metadata": {},
     "output_type": "execute_result"
    }
   ],
   "source": [
    "np.all(y1%2==0)"
   ]
  },
  {
   "cell_type": "code",
   "execution_count": 105,
   "id": "cb716c76",
   "metadata": {},
   "outputs": [
    {
     "data": {
      "text/plain": [
       "False"
      ]
     },
     "execution_count": 105,
     "metadata": {},
     "output_type": "execute_result"
    }
   ],
   "source": [
    "np.all((y1%2==0) & (y1%3==0))"
   ]
  },
  {
   "cell_type": "code",
   "execution_count": 106,
   "id": "47def0f1",
   "metadata": {},
   "outputs": [
    {
     "data": {
      "text/plain": [
       "True"
      ]
     },
     "execution_count": 106,
     "metadata": {},
     "output_type": "execute_result"
    }
   ],
   "source": [
    "np.any(y1%2==0)"
   ]
  },
  {
   "cell_type": "code",
   "execution_count": 107,
   "id": "272dfab5",
   "metadata": {},
   "outputs": [
    {
     "data": {
      "text/plain": [
       "True"
      ]
     },
     "execution_count": 107,
     "metadata": {},
     "output_type": "execute_result"
    }
   ],
   "source": [
    "np.any((y1%2==0) & (y1%3==0))"
   ]
  },
  {
   "cell_type": "code",
   "execution_count": 108,
   "id": "c6da8db1",
   "metadata": {},
   "outputs": [],
   "source": [
    "# how to sort a array "
   ]
  },
  {
   "cell_type": "code",
   "execution_count": 111,
   "id": "099f8c65",
   "metadata": {},
   "outputs": [
    {
     "data": {
      "text/plain": [
       "array([8, 8, 6, 3, 6, 5, 3, 5, 8, 8])"
      ]
     },
     "execution_count": 111,
     "metadata": {},
     "output_type": "execute_result"
    }
   ],
   "source": [
    "y2=np.random.randint(1,10,(10,))\n",
    "y2"
   ]
  },
  {
   "cell_type": "code",
   "execution_count": 112,
   "id": "6cdc21d7",
   "metadata": {},
   "outputs": [
    {
     "data": {
      "text/plain": [
       "array([3, 3, 5, 5, 6, 6, 8, 8, 8, 8])"
      ]
     },
     "execution_count": 112,
     "metadata": {},
     "output_type": "execute_result"
    }
   ],
   "source": [
    "np.sort(y2)"
   ]
  },
  {
   "cell_type": "code",
   "execution_count": 114,
   "id": "d7ac8576",
   "metadata": {},
   "outputs": [
    {
     "data": {
      "text/plain": [
       "array([8, 8, 8, 8, 6, 6, 5, 5, 3, 3])"
      ]
     },
     "execution_count": 114,
     "metadata": {},
     "output_type": "execute_result"
    }
   ],
   "source": [
    "k=np.sort(y2)\n",
    "k[::-1]\n"
   ]
  },
  {
   "cell_type": "code",
   "execution_count": 117,
   "id": "f0f991d3",
   "metadata": {},
   "outputs": [
    {
     "data": {
      "text/plain": [
       "array([[25,  2,  5,  1, 20, 14],\n",
       "       [ 3, 23, 17, 29, 29, 19],\n",
       "       [17, 14, 25,  5, 11, 11],\n",
       "       [ 4, 25, 24, 17, 25, 12],\n",
       "       [24, 11,  1,  8,  4, 23],\n",
       "       [ 5, 22, 23, 24, 23,  5]])"
      ]
     },
     "execution_count": 117,
     "metadata": {},
     "output_type": "execute_result"
    }
   ],
   "source": [
    "y3=np.random.randint(1,30,(6,6))\n",
    "y3"
   ]
  },
  {
   "cell_type": "code",
   "execution_count": 122,
   "id": "65025720",
   "metadata": {},
   "outputs": [
    {
     "data": {
      "text/plain": [
       "array([[ 1,  2,  5, 14, 20, 25],\n",
       "       [ 3, 17, 19, 23, 29, 29],\n",
       "       [ 5, 11, 11, 14, 17, 25],\n",
       "       [ 4, 12, 17, 24, 25, 25],\n",
       "       [ 1,  4,  8, 11, 23, 24],\n",
       "       [ 5,  5, 22, 23, 23, 24]])"
      ]
     },
     "execution_count": 122,
     "metadata": {},
     "output_type": "execute_result"
    }
   ],
   "source": [
    "a=np.sort(y3)  #by default it will sort row only not column wise.\n",
    "a"
   ]
  },
  {
   "cell_type": "code",
   "execution_count": 123,
   "id": "6cd929ed",
   "metadata": {},
   "outputs": [
    {
     "data": {
      "text/plain": [
       "array([[ 1,  2,  5, 11, 17, 24],\n",
       "       [ 1,  4,  8, 14, 20, 24],\n",
       "       [ 3,  5, 11, 14, 23, 25],\n",
       "       [ 4, 11, 17, 23, 23, 25],\n",
       "       [ 5, 12, 19, 23, 25, 25],\n",
       "       [ 5, 17, 22, 24, 29, 29]])"
      ]
     },
     "execution_count": 123,
     "metadata": {},
     "output_type": "execute_result"
    }
   ],
   "source": [
    "np.sort(a,axis=0)"
   ]
  },
  {
   "cell_type": "code",
   "execution_count": 124,
   "id": "7487bb38",
   "metadata": {},
   "outputs": [
    {
     "data": {
      "text/plain": [
       "array([5, 3, 6, 7, 1, 4, 2, 0], dtype=int64)"
      ]
     },
     "execution_count": 124,
     "metadata": {},
     "output_type": "execute_result"
    }
   ],
   "source": [
    "y4=np.array([9,6,7,3,6,1,4,5])\n",
    "np.argsort(y4)   # it returns the indexing valus of the output."
   ]
  },
  {
   "cell_type": "code",
   "execution_count": 125,
   "id": "657cde21",
   "metadata": {},
   "outputs": [],
   "source": [
    "# Converting the Data Type "
   ]
  },
  {
   "cell_type": "code",
   "execution_count": 126,
   "id": "b1c437e8",
   "metadata": {},
   "outputs": [],
   "source": [
    "# To Convert the Data Type we use 'astype()' function"
   ]
  },
  {
   "cell_type": "code",
   "execution_count": 127,
   "id": "1888e3d1",
   "metadata": {},
   "outputs": [],
   "source": [
    "y5=np.array([9,6,7,3,6,1,4,5])"
   ]
  },
  {
   "cell_type": "code",
   "execution_count": 133,
   "id": "3183f25d",
   "metadata": {},
   "outputs": [
    {
     "name": "stdout",
     "output_type": "stream",
     "text": [
      "int32\n"
     ]
    }
   ],
   "source": [
    "print(y5.dtype)"
   ]
  },
  {
   "cell_type": "code",
   "execution_count": 163,
   "id": "37a19fe0",
   "metadata": {},
   "outputs": [
    {
     "data": {
      "text/plain": [
       "array([9., 6., 7., 3., 6., 1., 4., 5.])"
      ]
     },
     "execution_count": 163,
     "metadata": {},
     "output_type": "execute_result"
    }
   ],
   "source": [
    "y5.astype(float)"
   ]
  },
  {
   "cell_type": "code",
   "execution_count": 164,
   "id": "4fb14d1e",
   "metadata": {},
   "outputs": [],
   "source": [
    "# Copy and View "
   ]
  },
  {
   "cell_type": "code",
   "execution_count": 167,
   "id": "7ddcf0ed",
   "metadata": {},
   "outputs": [
    {
     "data": {
      "text/plain": [
       "array([[1, 6, 3],\n",
       "       [1, 7, 7],\n",
       "       [5, 9, 7]])"
      ]
     },
     "execution_count": 167,
     "metadata": {},
     "output_type": "execute_result"
    }
   ],
   "source": [
    "c=np.random.randint(1,10,(3,3))\n",
    "c"
   ]
  },
  {
   "cell_type": "code",
   "execution_count": 168,
   "id": "72345f74",
   "metadata": {},
   "outputs": [
    {
     "data": {
      "text/plain": [
       "array([[7, 7],\n",
       "       [9, 7]])"
      ]
     },
     "execution_count": 168,
     "metadata": {},
     "output_type": "execute_result"
    }
   ],
   "source": [
    "x=c[1:,1:]\n",
    "x"
   ]
  },
  {
   "cell_type": "code",
   "execution_count": 170,
   "id": "a3065e18",
   "metadata": {},
   "outputs": [
    {
     "data": {
      "text/plain": [
       "array([[100,   7],\n",
       "       [  9,   7]])"
      ]
     },
     "execution_count": 170,
     "metadata": {},
     "output_type": "execute_result"
    }
   ],
   "source": [
    "x[0,0]=100\n",
    "x"
   ]
  },
  {
   "cell_type": "code",
   "execution_count": 179,
   "id": "7c715b7a",
   "metadata": {},
   "outputs": [
    {
     "data": {
      "text/plain": [
       "array([[9, 7, 4],\n",
       "       [8, 1, 9],\n",
       "       [5, 1, 7]])"
      ]
     },
     "execution_count": 179,
     "metadata": {},
     "output_type": "execute_result"
    }
   ],
   "source": [
    "c=np.random.randint(1,10,(3,3))\n",
    "c"
   ]
  },
  {
   "cell_type": "code",
   "execution_count": 173,
   "id": "6f521ab4",
   "metadata": {},
   "outputs": [
    {
     "data": {
      "text/plain": [
       "array([[100,   7],\n",
       "       [  9,   7]])"
      ]
     },
     "execution_count": 173,
     "metadata": {},
     "output_type": "execute_result"
    }
   ],
   "source": [
    "x=c[1:,1:].view()   # in view if you change the sub array the the orginal array will also changes\n",
    "x"
   ]
  },
  {
   "cell_type": "code",
   "execution_count": 175,
   "id": "48246f41",
   "metadata": {},
   "outputs": [
    {
     "data": {
      "text/plain": [
       "array([[10000,     7],\n",
       "       [    9,     7]])"
      ]
     },
     "execution_count": 175,
     "metadata": {},
     "output_type": "execute_result"
    }
   ],
   "source": [
    "x[0,0]=10000\n",
    "x"
   ]
  },
  {
   "cell_type": "code",
   "execution_count": 176,
   "id": "093480f2",
   "metadata": {},
   "outputs": [
    {
     "data": {
      "text/plain": [
       "array([[    1,     6,     3],\n",
       "       [    1, 10000,     7],\n",
       "       [    5,     9,     7]])"
      ]
     },
     "execution_count": 176,
     "metadata": {},
     "output_type": "execute_result"
    }
   ],
   "source": [
    "c"
   ]
  },
  {
   "cell_type": "code",
   "execution_count": 177,
   "id": "893137fb",
   "metadata": {},
   "outputs": [],
   "source": [
    "#copy"
   ]
  },
  {
   "cell_type": "code",
   "execution_count": 178,
   "id": "f0e9a054",
   "metadata": {},
   "outputs": [],
   "source": [
    "c=np.random.randint(1,10,(3,3))\n"
   ]
  },
  {
   "cell_type": "code",
   "execution_count": 180,
   "id": "bbb8632f",
   "metadata": {},
   "outputs": [
    {
     "data": {
      "text/plain": [
       "array([[1, 9],\n",
       "       [1, 7]])"
      ]
     },
     "execution_count": 180,
     "metadata": {},
     "output_type": "execute_result"
    }
   ],
   "source": [
    "x=c[1:,1:].copy() # in copy if you change the sub array the the orginal array will not effected\n",
    "x"
   ]
  },
  {
   "cell_type": "code",
   "execution_count": 181,
   "id": "a4ca9fa1",
   "metadata": {},
   "outputs": [
    {
     "data": {
      "text/plain": [
       "array([[10000,     9],\n",
       "       [    1,     7]])"
      ]
     },
     "execution_count": 181,
     "metadata": {},
     "output_type": "execute_result"
    }
   ],
   "source": [
    "x[0,0]=10000\n",
    "x"
   ]
  },
  {
   "cell_type": "code",
   "execution_count": 182,
   "id": "f4d5eb8e",
   "metadata": {},
   "outputs": [
    {
     "data": {
      "text/plain": [
       "array([[9, 7, 4],\n",
       "       [8, 1, 9],\n",
       "       [5, 1, 7]])"
      ]
     },
     "execution_count": 182,
     "metadata": {},
     "output_type": "execute_result"
    }
   ],
   "source": [
    "c"
   ]
  },
  {
   "cell_type": "code",
   "execution_count": 1,
   "id": "c2c5cd9a",
   "metadata": {},
   "outputs": [],
   "source": [
    "# python broadcasting (hear if both the arrays are not equal then the they makes same dummy valus)"
   ]
  },
  {
   "cell_type": "code",
   "execution_count": null,
   "id": "2b1b8342",
   "metadata": {},
   "outputs": [],
   "source": [
    "# Example 1"
   ]
  },
  {
   "cell_type": "code",
   "execution_count": 5,
   "id": "c5f2a6e6",
   "metadata": {},
   "outputs": [
    {
     "data": {
      "text/plain": [
       "array([0, 1, 2])"
      ]
     },
     "execution_count": 5,
     "metadata": {},
     "output_type": "execute_result"
    }
   ],
   "source": [
    "x=np.arange(3)\n",
    "x"
   ]
  },
  {
   "cell_type": "code",
   "execution_count": 6,
   "id": "bb5cdae6",
   "metadata": {},
   "outputs": [
    {
     "data": {
      "text/plain": [
       "array([5, 6, 7])"
      ]
     },
     "execution_count": 6,
     "metadata": {},
     "output_type": "execute_result"
    }
   ],
   "source": [
    "x+5"
   ]
  },
  {
   "cell_type": "code",
   "execution_count": null,
   "id": "59c487b1",
   "metadata": {},
   "outputs": [],
   "source": [
    "# Example 2"
   ]
  },
  {
   "cell_type": "code",
   "execution_count": 7,
   "id": "32c8c3c4",
   "metadata": {},
   "outputs": [
    {
     "data": {
      "text/plain": [
       "array([[1., 1., 1.],\n",
       "       [1., 1., 1.],\n",
       "       [1., 1., 1.]])"
      ]
     },
     "execution_count": 7,
     "metadata": {},
     "output_type": "execute_result"
    }
   ],
   "source": [
    "np.ones((3,3)) "
   ]
  },
  {
   "cell_type": "code",
   "execution_count": 8,
   "id": "75c14c37",
   "metadata": {},
   "outputs": [
    {
     "data": {
      "text/plain": [
       "array([[1., 2., 3.],\n",
       "       [1., 2., 3.],\n",
       "       [1., 2., 3.]])"
      ]
     },
     "execution_count": 8,
     "metadata": {},
     "output_type": "execute_result"
    }
   ],
   "source": [
    "np.ones((3,3))+np.arange(3)"
   ]
  },
  {
   "cell_type": "code",
   "execution_count": null,
   "id": "a5850480",
   "metadata": {},
   "outputs": [],
   "source": [
    "# Example 3"
   ]
  },
  {
   "cell_type": "code",
   "execution_count": 10,
   "id": "e97c3ec5",
   "metadata": {},
   "outputs": [
    {
     "data": {
      "text/plain": [
       "array([[0],\n",
       "       [1],\n",
       "       [2]])"
      ]
     },
     "execution_count": 10,
     "metadata": {},
     "output_type": "execute_result"
    }
   ],
   "source": [
    "np.arange(3).reshape((3,1))"
   ]
  },
  {
   "cell_type": "code",
   "execution_count": 12,
   "id": "ff1a9144",
   "metadata": {},
   "outputs": [
    {
     "data": {
      "text/plain": [
       "array([0, 1, 2])"
      ]
     },
     "execution_count": 12,
     "metadata": {},
     "output_type": "execute_result"
    }
   ],
   "source": [
    "np.arange(3)"
   ]
  },
  {
   "cell_type": "code",
   "execution_count": 11,
   "id": "083a0c86",
   "metadata": {},
   "outputs": [
    {
     "data": {
      "text/plain": [
       "array([[0, 1, 2],\n",
       "       [1, 2, 3],\n",
       "       [2, 3, 4]])"
      ]
     },
     "execution_count": 11,
     "metadata": {},
     "output_type": "execute_result"
    }
   ],
   "source": [
    "np.arange(3).reshape((3,1))+np.arange(3)"
   ]
  },
  {
   "cell_type": "code",
   "execution_count": null,
   "id": "d67665bc",
   "metadata": {},
   "outputs": [],
   "source": [
    "# np.nonzero() --> returns the index values of nonzero elements."
   ]
  },
  {
   "cell_type": "code",
   "execution_count": 16,
   "id": "021f1090",
   "metadata": {},
   "outputs": [
    {
     "name": "stdout",
     "output_type": "stream",
     "text": [
      "[[ 0  8  0]\n",
      " [ 7  0  0]\n",
      " [-5  0  1]]\n",
      "Indices of non zero elements :  (array([0, 1, 2, 2], dtype=int64), array([1, 0, 0, 2], dtype=int64))\n"
     ]
    }
   ],
   "source": [
    "import numpy as geek\n",
    "arr = geek.array([[0, 8, 0], [7, 0, 0], [-5, 0, 1]])\n",
    "print(arr) \n",
    "nonzero= geek.nonzero(arr)\n",
    "print (\"Indices of non zero elements : \",nonzero) \n"
   ]
  },
  {
   "cell_type": "code",
   "execution_count": 17,
   "id": "325ca2f6",
   "metadata": {},
   "outputs": [],
   "source": [
    "# How to save the array"
   ]
  },
  {
   "cell_type": "code",
   "execution_count": null,
   "id": "8d6b0b98",
   "metadata": {},
   "outputs": [],
   "source": [
    "# for saving the single array use .npy and use 'np.save'"
   ]
  },
  {
   "cell_type": "code",
   "execution_count": 23,
   "id": "63474c3e",
   "metadata": {},
   "outputs": [],
   "source": [
    "y=np.array((0,10))\n",
    "    np.save(\"C:\\\\Users\\\\Gogula Vinay\\\\Desktop\\\\Innomatics labs\\\\Data Science\\\\Numpy class notes\\\\arr1.npy\",y)"
   ]
  },
  {
   "cell_type": "code",
   "execution_count": null,
   "id": "eb5ad84f",
   "metadata": {},
   "outputs": [],
   "source": [
    "# for saving the single array use .npz and use 'np.savez'"
   ]
  },
  {
   "cell_type": "code",
   "execution_count": 30,
   "id": "de1b8e88",
   "metadata": {},
   "outputs": [],
   "source": [
    "z=np.array((0,13))\n",
    "np.savez(\"C:\\\\Users\\\\Gogula Vinay\\\\Desktop\\\\Innomatics labs\\\\Data Science\\\\Numpy class notes\\\\arr2.npz\",y,z)"
   ]
  },
  {
   "cell_type": "code",
   "execution_count": null,
   "id": "ca74fa45",
   "metadata": {},
   "outputs": [],
   "source": [
    "# to get the values 'load the array' k=np.load('give path hear') and k.files."
   ]
  },
  {
   "cell_type": "code",
   "execution_count": null,
   "id": "07b2ba42",
   "metadata": {},
   "outputs": [],
   "source": [
    "# Difference Between Python List and Numpy array"
   ]
  },
  {
   "cell_type": "code",
   "execution_count": 2,
   "id": "31397711",
   "metadata": {},
   "outputs": [],
   "source": [
    "x=np.array([1,2,3])"
   ]
  },
  {
   "cell_type": "code",
   "execution_count": 3,
   "id": "68409d8c",
   "metadata": {},
   "outputs": [],
   "source": [
    "y=[1,2,3]"
   ]
  },
  {
   "cell_type": "code",
   "execution_count": 4,
   "id": "3eeb46a0",
   "metadata": {},
   "outputs": [
    {
     "data": {
      "text/plain": [
       "numpy.ndarray"
      ]
     },
     "execution_count": 4,
     "metadata": {},
     "output_type": "execute_result"
    }
   ],
   "source": [
    "type(x)"
   ]
  },
  {
   "cell_type": "code",
   "execution_count": 5,
   "id": "41bf9292",
   "metadata": {},
   "outputs": [
    {
     "data": {
      "text/plain": [
       "list"
      ]
     },
     "execution_count": 5,
     "metadata": {},
     "output_type": "execute_result"
    }
   ],
   "source": [
    "type(y)"
   ]
  },
  {
   "cell_type": "code",
   "execution_count": 6,
   "id": "5949b48e",
   "metadata": {},
   "outputs": [
    {
     "data": {
      "text/plain": [
       "array([1, 2, 3])"
      ]
     },
     "execution_count": 6,
     "metadata": {},
     "output_type": "execute_result"
    }
   ],
   "source": [
    "x"
   ]
  },
  {
   "cell_type": "code",
   "execution_count": 7,
   "id": "e69f66c2",
   "metadata": {},
   "outputs": [
    {
     "data": {
      "text/plain": [
       "array([3, 4, 5])"
      ]
     },
     "execution_count": 7,
     "metadata": {},
     "output_type": "execute_result"
    }
   ],
   "source": [
    "x+2"
   ]
  },
  {
   "cell_type": "code",
   "execution_count": 8,
   "id": "d6c4d6a6",
   "metadata": {},
   "outputs": [
    {
     "ename": "TypeError",
     "evalue": "can only concatenate list (not \"int\") to list",
     "output_type": "error",
     "traceback": [
      "\u001b[1;31m---------------------------------------------------------------------------\u001b[0m",
      "\u001b[1;31mTypeError\u001b[0m                                 Traceback (most recent call last)",
      "Input \u001b[1;32mIn [8]\u001b[0m, in \u001b[0;36m<cell line: 1>\u001b[1;34m()\u001b[0m\n\u001b[1;32m----> 1\u001b[0m \u001b[43my\u001b[49m\u001b[38;5;241;43m+\u001b[39;49m\u001b[38;5;241;43m2\u001b[39;49m\n",
      "\u001b[1;31mTypeError\u001b[0m: can only concatenate list (not \"int\") to list"
     ]
    }
   ],
   "source": [
    "y+2"
   ]
  },
  {
   "cell_type": "code",
   "execution_count": 10,
   "id": "21ee0f87",
   "metadata": {},
   "outputs": [
    {
     "data": {
      "text/plain": [
       "array([3, 6, 9])"
      ]
     },
     "execution_count": 10,
     "metadata": {},
     "output_type": "execute_result"
    }
   ],
   "source": [
    "x*3"
   ]
  },
  {
   "cell_type": "code",
   "execution_count": 11,
   "id": "181a1f47",
   "metadata": {},
   "outputs": [
    {
     "data": {
      "text/plain": [
       "[1, 2, 3, 1, 2, 3, 1, 2, 3]"
      ]
     },
     "execution_count": 11,
     "metadata": {},
     "output_type": "execute_result"
    }
   ],
   "source": [
    "y*3"
   ]
  },
  {
   "cell_type": "code",
   "execution_count": 12,
   "id": "6d896ea6",
   "metadata": {},
   "outputs": [
    {
     "data": {
      "text/plain": [
       "array([1, 2, 3])"
      ]
     },
     "execution_count": 12,
     "metadata": {},
     "output_type": "execute_result"
    }
   ],
   "source": [
    "x"
   ]
  },
  {
   "cell_type": "code",
   "execution_count": 13,
   "id": "82455f7f",
   "metadata": {},
   "outputs": [
    {
     "ename": "IndexError",
     "evalue": "index 3 is out of bounds for axis 0 with size 3",
     "output_type": "error",
     "traceback": [
      "\u001b[1;31m---------------------------------------------------------------------------\u001b[0m",
      "\u001b[1;31mIndexError\u001b[0m                                Traceback (most recent call last)",
      "Input \u001b[1;32mIn [13]\u001b[0m, in \u001b[0;36m<cell line: 1>\u001b[1;34m()\u001b[0m\n\u001b[1;32m----> 1\u001b[0m x[\u001b[38;5;241m3\u001b[39m]\u001b[38;5;241m=\u001b[39m\u001b[38;5;241m1000\u001b[39m\n",
      "\u001b[1;31mIndexError\u001b[0m: index 3 is out of bounds for axis 0 with size 3"
     ]
    }
   ],
   "source": [
    "x[3]=1000"
   ]
  },
  {
   "cell_type": "code",
   "execution_count": 14,
   "id": "dbcfae15",
   "metadata": {},
   "outputs": [
    {
     "data": {
      "text/plain": [
       "[1, 2, 3]"
      ]
     },
     "execution_count": 14,
     "metadata": {},
     "output_type": "execute_result"
    }
   ],
   "source": [
    "y"
   ]
  },
  {
   "cell_type": "code",
   "execution_count": 16,
   "id": "9654cc02",
   "metadata": {},
   "outputs": [
    {
     "data": {
      "text/plain": [
       "[1, 2, 3, 4, 4]"
      ]
     },
     "execution_count": 16,
     "metadata": {},
     "output_type": "execute_result"
    }
   ],
   "source": [
    "y.append(4)\n",
    "y"
   ]
  },
  {
   "cell_type": "code",
   "execution_count": 17,
   "id": "63fb1409",
   "metadata": {},
   "outputs": [
    {
     "name": "stdout",
     "output_type": "stream",
     "text": [
      "0.03889870643615723\n"
     ]
    }
   ],
   "source": [
    "import time\n",
    "x=time.time()\n",
    "np.arange(0,10000000)\n",
    "y=time.time()\n",
    "print(y-x)"
   ]
  },
  {
   "cell_type": "code",
   "execution_count": 18,
   "id": "ec971921",
   "metadata": {},
   "outputs": [
    {
     "name": "stdout",
     "output_type": "stream",
     "text": [
      "2.351081132888794\n"
     ]
    }
   ],
   "source": [
    "x=time.time()\n",
    "l=[]\n",
    "for y in range(0,10000000):\n",
    "    l.append(y)\n",
    "y=time.time()\n",
    "print(y-x)"
   ]
  },
  {
   "cell_type": "code",
   "execution_count": null,
   "id": "7ad5c950",
   "metadata": {},
   "outputs": [],
   "source": [
    "# Ceil()\n",
    "'''Return the ceiling of the input, element-wise.\n",
    "\n",
    "The ceil of the scalar x is the smallest integer i, \n",
    "such that i >= x. It is often denoted as .'''"
   ]
  },
  {
   "cell_type": "code",
   "execution_count": 2,
   "id": "fe7ac4e5",
   "metadata": {},
   "outputs": [
    {
     "data": {
      "text/plain": [
       "array([-1., -1., -0.,  1.,  2.,  2.,  2.])"
      ]
     },
     "execution_count": 2,
     "metadata": {},
     "output_type": "execute_result"
    }
   ],
   "source": [
    "import numpy  as np \n",
    "a = np.array([-1.7, -1.5, -0.2, 0.2, 1.5, 1.7, 2.0])\n",
    "np.ceil(a)"
   ]
  },
  {
   "cell_type": "code",
   "execution_count": null,
   "id": "e69c5d17",
   "metadata": {},
   "outputs": [],
   "source": [
    "# trunc ()\n",
    "'''Return the truncated value of the input, element-wise.\n",
    "\n",
    "The truncated value of the scalar x is the nearest integer i which is closer to zero than x is. \n",
    "In short, the fractional part of the signed number x is discarded.'''"
   ]
  },
  {
   "cell_type": "code",
   "execution_count": 3,
   "id": "d58c8940",
   "metadata": {},
   "outputs": [
    {
     "data": {
      "text/plain": [
       "array([-1., -1., -0.,  0.,  1.,  1.,  2.])"
      ]
     },
     "execution_count": 3,
     "metadata": {},
     "output_type": "execute_result"
    }
   ],
   "source": [
    "a = np.array([-1.7, -1.5, -0.2, 0.2, 1.5, 1.7, 2.0])\n",
    "np.trunc(a)"
   ]
  },
  {
   "cell_type": "code",
   "execution_count": null,
   "id": "f26256f6",
   "metadata": {},
   "outputs": [],
   "source": [
    "# floor()\n",
    "'''Return the floor of the input, element-wise.\n",
    "\n",
    "The floor of the scalar x is the largest integer i, \n",
    "such that i <= x. It is often denoted as .'''"
   ]
  },
  {
   "cell_type": "code",
   "execution_count": 4,
   "id": "6fed93dd",
   "metadata": {},
   "outputs": [
    {
     "data": {
      "text/plain": [
       "array([-2., -2., -1.,  0.,  1.,  1.,  2.])"
      ]
     },
     "execution_count": 4,
     "metadata": {},
     "output_type": "execute_result"
    }
   ],
   "source": [
    "a = np.array([-1.7, -1.5, -0.2, 0.2, 1.5, 1.7, 2.0])\n",
    "np.floor(a)"
   ]
  },
  {
   "cell_type": "code",
   "execution_count": 5,
   "id": "f78ae2c0",
   "metadata": {},
   "outputs": [],
   "source": [
    "# round()\n"
   ]
  },
  {
   "cell_type": "code",
   "execution_count": 6,
   "id": "b4d1455f",
   "metadata": {},
   "outputs": [
    {
     "data": {
      "text/plain": [
       "array([ 0.,  2.,  2.,  4.,  4., 10.])"
      ]
     },
     "execution_count": 6,
     "metadata": {},
     "output_type": "execute_result"
    }
   ],
   "source": [
    "in_array = [.5, 1.5, 2.5, 3.5, 4.5, 10.1]\n",
    "np.round_(in_array)"
   ]
  },
  {
   "cell_type": "code",
   "execution_count": 9,
   "id": "3d0cfeb9",
   "metadata": {},
   "outputs": [
    {
     "data": {
      "text/plain": [
       "array([0.554, 1.334, 0.714])"
      ]
     },
     "execution_count": 9,
     "metadata": {},
     "output_type": "execute_result"
    }
   ],
   "source": [
    "in_array = [.5538, 1.33354, .71445]\n",
    "np.round_(in_array, decimals = 3)"
   ]
  },
  {
   "cell_type": "code",
   "execution_count": 17,
   "id": "1ca51c12",
   "metadata": {},
   "outputs": [],
   "source": [
    "# Date and time\n"
   ]
  },
  {
   "cell_type": "code",
   "execution_count": 18,
   "id": "10c6df7d",
   "metadata": {},
   "outputs": [
    {
     "name": "stdout",
     "output_type": "stream",
     "text": [
      "Todays Date:  2022-09-10 12:48:24.128854\n",
      "Yesterday:  2022-09-09 12:48:24.128854\n",
      "Tomorrow:  2022-09-11 12:48:24.128854\n"
     ]
    }
   ],
   "source": [
    "import datetime\n",
    "today=datetime.datetime.today()\n",
    "print('Todays Date: ',today)\n",
    "yesterday=today-datetime.timedelta(days=1)\n",
    "print('Yesterday: ',yesterday)\n",
    "tomorrow=today+datetime.timedelta(days=1)\n",
    "print('Tomorrow: ',tomorrow)"
   ]
  },
  {
   "cell_type": "code",
   "execution_count": 19,
   "id": "27eb9cce",
   "metadata": {},
   "outputs": [
    {
     "name": "stdout",
     "output_type": "stream",
     "text": [
      "First Monday in May 2017:\n",
      "2017-05-01\n"
     ]
    }
   ],
   "source": [
    "print(\"First Monday in May 2017:\")\n",
    "print(np.busday_offset('2017-05', 0, roll='forward', weekmask='Mon'))\n"
   ]
  },
  {
   "cell_type": "code",
   "execution_count": 1,
   "id": "0edf1a87",
   "metadata": {},
   "outputs": [],
   "source": [
    "import numpy as np"
   ]
  },
  {
   "cell_type": "code",
   "execution_count": 2,
   "id": "9be2791e",
   "metadata": {},
   "outputs": [
    {
     "data": {
      "text/plain": [
       "array([[40. , 50. , 60. ,  7. ,  8. ],\n",
       "       [45. , 55. ,  6.5,  7.5,  8.5]])"
      ]
     },
     "execution_count": 2,
     "metadata": {},
     "output_type": "execute_result"
    }
   ],
   "source": [
    "arr=np.array([[40,50,60,70,80],[45,55,65,75,85]])\n",
    "np.where(arr>64,arr/10,arr)"
   ]
  },
  {
   "cell_type": "code",
   "execution_count": 7,
   "id": "9892a39a",
   "metadata": {},
   "outputs": [
    {
     "name": "stdout",
     "output_type": "stream",
     "text": [
      "jhbag\n"
     ]
    }
   ],
   "source": [
    "x=20\n",
    "y=30\n",
    "if((x+1)>20 | y+1>30):\n",
    "    print('inside if',end='')\n",
    "else:\n",
    "    print('jhbag')"
   ]
  },
  {
   "cell_type": "code",
   "execution_count": null,
   "id": "cef69898",
   "metadata": {},
   "outputs": [],
   "source": []
  }
 ],
 "metadata": {
  "kernelspec": {
   "display_name": "Python 3 (ipykernel)",
   "language": "python",
   "name": "python3"
  },
  "language_info": {
   "codemirror_mode": {
    "name": "ipython",
    "version": 3
   },
   "file_extension": ".py",
   "mimetype": "text/x-python",
   "name": "python",
   "nbconvert_exporter": "python",
   "pygments_lexer": "ipython3",
   "version": "3.9.12"
  }
 },
 "nbformat": 4,
 "nbformat_minor": 5
}
