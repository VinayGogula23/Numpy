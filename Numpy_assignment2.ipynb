{
 "cells": [
  {
   "cell_type": "markdown",
   "metadata": {
    "id": "KRH0lpS88abX"
   },
   "source": [
    "### NumPy Exercises\n",
    "##### Now that we've learned about NumPy let's test your knowledge. We'll start off with a few simple tasks and then you'll be asked some more complicated questions.\n",
    "##### IMPORTANT NOTE! Make sure you don't run the cells directly above the example output shown, otherwise you will end up writing over the example output!"
   ]
  },
  {
   "cell_type": "markdown",
   "metadata": {
    "id": "9KzpS47XBTWm"
   },
   "source": [
    "##### import numpy as np\n"
   ]
  },
  {
   "cell_type": "markdown",
   "metadata": {
    "id": "V6ntuSvDBZ2G"
   },
   "source": [
    "###### 1. Write a NumPy program to find the missing data in a given array."
   ]
  },
  {
   "cell_type": "code",
   "execution_count": 10,
   "metadata": {
    "id": "Z94k4mpaBClu"
   },
   "outputs": [
    {
     "name": "stdout",
     "output_type": "stream",
     "text": [
      "Original array:\n",
      "[[ 1.  2.  3.]\n",
      " [ 4. nan  6.]\n",
      " [ 7.  8.  9.]]\n",
      "        \n",
      "Find the missing data of the said array:\n",
      "[[False False False]\n",
      " [False  True False]\n",
      " [False False False]]\n"
     ]
    }
   ],
   "source": [
    "import numpy as np\n",
    "x=np.arange(1,10,dtype=float).reshape(3,3)\n",
    "x[1,1]=np.nan\n",
    "print('Original array:')\n",
    "print(x)\n",
    "print('        ')\n",
    "print('Find the missing data of the said array:')\n",
    "print(np.isnan(x))"
   ]
  },
  {
   "cell_type": "code",
   "execution_count": null,
   "metadata": {
    "colab": {
     "base_uri": "https://localhost:8080/"
    },
    "id": "yAazoe4kBfJ-",
    "outputId": "2439fd36-9243-49e0-ef2a-f19dca335a17"
   },
   "outputs": [
    {
     "name": "stdout",
     "output_type": "stream",
     "text": [
      "Original array:\n",
      "[[ 3.  2. nan  1.]\n",
      " [10. 12. 10.  9.]\n",
      " [ 5. nan  1. nan]]\n",
      "\n",
      "Find the missing data of the said array:\n",
      "[[False False  True False]\n",
      " [False False False False]\n",
      " [False  True False  True]]\n"
     ]
    }
   ],
   "source": [
    "## sample output"
   ]
  },
  {
   "cell_type": "markdown",
   "metadata": {
    "id": "jT038BYtB0la"
   },
   "source": [
    "##### 2. Write a NumPy program to check whether two arrays are equal (element wise) or not."
   ]
  },
  {
   "cell_type": "code",
   "execution_count": 12,
   "metadata": {
    "id": "0aJczGNjBfL1"
   },
   "outputs": [
    {
     "name": "stdout",
     "output_type": "stream",
     "text": [
      "[ True  True  True  True  True]\n"
     ]
    }
   ],
   "source": [
    "a=np.array([1,2,3,4,5])\n",
    "b=np.array([1,2,3,4,5])\n",
    "print(a==b)"
   ]
  },
  {
   "cell_type": "markdown",
   "metadata": {
    "id": "XhX1H1M_CI7S"
   },
   "source": [
    "###### 3. Write a NumPy program to create a 4x4 array with random values, now create a new array from the said array swapping first and last rows."
   ]
  },
  {
   "cell_type": "code",
   "execution_count": 25,
   "metadata": {
    "id": "3HazIhbtBfOq"
   },
   "outputs": [
    {
     "name": "stdout",
     "output_type": "stream",
     "text": [
      "Original array:\n",
      "[[9 7 1]\n",
      " [8 3 2]\n",
      " [9 1 3]\n",
      " [0 3 1]]\n",
      "  \n",
      "after replacing the first and last rows\n",
      "[[0 3 1]\n",
      " [8 3 2]\n",
      " [9 1 3]\n",
      " [9 7 1]]\n"
     ]
    }
   ],
   "source": [
    "array= np.array([[9 ,7, 1],[8, 3, 2],[9, 1, 3],[0,3, 1]]) \n",
    "print('Original array:')\n",
    "print(array)\n",
    "print('  ')\n",
    "print('after replacing the first and last rows')\n",
    "array[[0,3]]=array[[3,0]]\n",
    "print(array)"
   ]
  },
  {
   "cell_type": "code",
   "execution_count": null,
   "metadata": {
    "colab": {
     "base_uri": "https://localhost:8080/"
    },
    "id": "FFNk8me9BfRL",
    "outputId": "10d0f2d3-97b5-4a46-ff16-44136e72c9d9"
   },
   "outputs": [
    {
     "name": "stdout",
     "output_type": "stream",
     "text": [
      "Original array:\n",
      "[[ 0  1  2  3]\n",
      " [ 4  5  6  7]\n",
      " [ 8  9 10 11]\n",
      " [12 13 14 15]]\n",
      "\n",
      "New array after swapping first and last rows of the said array:\n",
      "[[12 13 14 15]\n",
      " [ 8  9 10 11]\n",
      " [ 4  5  6  7]\n",
      " [ 0  1  2  3]]\n"
     ]
    }
   ],
   "source": [
    "## sample output"
   ]
  },
  {
   "cell_type": "markdown",
   "metadata": {
    "id": "BYgy22u_kqsB"
   },
   "source": [
    "###### 4. Write a NumPy program to convert a list and tuple into arrays."
   ]
  },
  {
   "cell_type": "code",
   "execution_count": 28,
   "metadata": {
    "id": "Hgmgw7J2BfUQ"
   },
   "outputs": [
    {
     "name": "stdout",
     "output_type": "stream",
     "text": [
      "[1 2 3 4 5]\n",
      "[1 2 3 4 6]\n"
     ]
    }
   ],
   "source": [
    "list=[1,2,3,4,5]\n",
    "tuple=(1,2,3,4,6)\n",
    "print(np.array(list))\n",
    "print(np.array(tuple))"
   ]
  },
  {
   "cell_type": "markdown",
   "metadata": {
    "id": "jzp2hg44k5O0"
   },
   "source": [
    "###### 5. Write a NumPy program to find common values between two arrays."
   ]
  },
  {
   "cell_type": "code",
   "execution_count": 42,
   "metadata": {
    "id": "1QMJVl3LBfWm"
   },
   "outputs": [
    {
     "name": "stdout",
     "output_type": "stream",
     "text": [
      "the common values between two arrays are: \n",
      "7  6  9  "
     ]
    }
   ],
   "source": [
    "x=np.array([1,7,6,9,2])\n",
    "y=np.array([4,5,7,9,6])\n",
    "a=''\n",
    "for i in x:\n",
    "    for j in y:\n",
    "        if i==j:\n",
    "            a=a+str(i)\n",
    "print('the common values between two arrays are: ')\n",
    "for i in a:\n",
    "    print(i,end='  ')"
   ]
  },
  {
   "cell_type": "markdown",
   "metadata": {
    "id": "Llt6X9k66TMD"
   },
   "source": [
    "###### 6. Write a NumPy program to create a new shape to an array without changing its data."
   ]
  },
  {
   "cell_type": "code",
   "execution_count": 49,
   "metadata": {
    "id": "rNh8SssUBfZQ"
   },
   "outputs": [
    {
     "name": "stdout",
     "output_type": "stream",
     "text": [
      "[1 2 3 4 5 6 7 8]\n",
      "  \n",
      "(2,4)\n",
      " [[1 2 3 4]\n",
      " [5 6 7 8]]\n",
      "  \n",
      "(4,2)\n",
      " [[1 2]\n",
      " [3 4]\n",
      " [5 6]\n",
      " [7 8]]\n"
     ]
    }
   ],
   "source": [
    "x=np.array([1,2,3,4,5,6,7,8])\n",
    "print(x)\n",
    "print('  ')\n",
    "y=x.reshape(2,4)          \n",
    "print('(2,4)\\n',y)\n",
    "print('  ')\n",
    "z=x.reshape(4,2) \n",
    "print('(4,2)\\n',z)"
   ]
  },
  {
   "cell_type": "code",
   "execution_count": null,
   "metadata": {
    "colab": {
     "base_uri": "https://localhost:8080/"
    },
    "id": "1yNEqa9pBfch",
    "outputId": "2377437d-096d-43cd-ca44-1d00a7db04b3"
   },
   "outputs": [
    {
     "name": "stdout",
     "output_type": "stream",
     "text": [
      "Reshape 3x2:\n",
      "[[1 2]\n",
      " [3 4]\n",
      " [5 6]]\n",
      "Reshape 2x3:\n",
      "[[1 2 3]\n",
      " [4 5 6]]\n"
     ]
    }
   ],
   "source": [
    "### sample output"
   ]
  },
  {
   "cell_type": "markdown",
   "metadata": {
    "id": "nf03MRSR7JFB"
   },
   "source": [
    "###### 7. Write a NumPy program to count the frequency of unique values in numpy array."
   ]
  },
  {
   "cell_type": "code",
   "execution_count": 58,
   "metadata": {
    "id": "NqJxDKOs6dZN"
   },
   "outputs": [
    {
     "name": "stdout",
     "output_type": "stream",
     "text": [
      "Original array:\n",
      "[10 10 20 10 20 20 20 30 30 50 40 40]\n",
      "Frequency of unique values of the said array:\n",
      "(array([10, 20, 30, 40, 50]), array([3, 4, 2, 2, 1], dtype=int64))\n"
     ]
    }
   ],
   "source": [
    "print('Original array:')\n",
    "print(np.array([10,10,20, 10, 20 ,20, 20, 30, 30, 50, 40, 40]))\n",
    "print('Frequency of unique values of the said array:')\n",
    "print(np.unique(np.array([10,10,20, 10, 20 ,20, 20, 30, 30, 50, 40, 40]),return_counts=True))"
   ]
  },
  {
   "cell_type": "code",
   "execution_count": null,
   "metadata": {
    "colab": {
     "base_uri": "https://localhost:8080/"
    },
    "id": "ElvUfhXV6db6",
    "outputId": "61b70809-412a-472b-d7ca-c513b54150b5"
   },
   "outputs": [
    {
     "name": "stdout",
     "output_type": "stream",
     "text": [
      "Original array:\n",
      "[10 10 20 10 20 20 20 30 30 50 40 40]\n",
      "Frequency of unique values of the said array:\n",
      "[[10 20 30 40 50]\n",
      " [ 3  4  2  2  1]]\n"
     ]
    }
   ],
   "source": [
    "## sample output"
   ]
  },
  {
   "cell_type": "markdown",
   "metadata": {
    "id": "a5wvDisr9SGS"
   },
   "source": [
    "###### 8. Write a NumPy program to broadcast on different shapes of arrays where p(3,3) + q(3)."
   ]
  },
  {
   "cell_type": "code",
   "execution_count": 60,
   "metadata": {},
   "outputs": [
    {
     "data": {
      "text/plain": [
       "array([0, 1, 2])"
      ]
     },
     "execution_count": 60,
     "metadata": {},
     "output_type": "execute_result"
    }
   ],
   "source": [
    "a=np.arange(3)"
   ]
  },
  {
   "cell_type": "code",
   "execution_count": 61,
   "metadata": {},
   "outputs": [
    {
     "data": {
      "text/plain": [
       "array([[0],\n",
       "       [1],\n",
       "       [2]])"
      ]
     },
     "execution_count": 61,
     "metadata": {},
     "output_type": "execute_result"
    }
   ],
   "source": [
    "b=np.arange(3).reshape((3,1))"
   ]
  },
  {
   "cell_type": "code",
   "execution_count": 63,
   "metadata": {
    "id": "B3hjEaCw6dfJ"
   },
   "outputs": [
    {
     "data": {
      "text/plain": [
       "array([[0, 1, 2],\n",
       "       [1, 2, 3],\n",
       "       [2, 3, 4]])"
      ]
     },
     "execution_count": 63,
     "metadata": {},
     "output_type": "execute_result"
    }
   ],
   "source": [
    "np.arange(3).reshape((3,1))+np.arange(3)"
   ]
  },
  {
   "cell_type": "code",
   "execution_count": 65,
   "metadata": {},
   "outputs": [
    {
     "data": {
      "text/plain": [
       "array([[1., 1., 1.],\n",
       "       [1., 1., 1.],\n",
       "       [1., 1., 1.]])"
      ]
     },
     "execution_count": 65,
     "metadata": {},
     "output_type": "execute_result"
    }
   ],
   "source": [
    "# example 2\n",
    "np.ones((3,3))"
   ]
  },
  {
   "cell_type": "code",
   "execution_count": 66,
   "metadata": {},
   "outputs": [
    {
     "data": {
      "text/plain": [
       "array([0, 1, 2])"
      ]
     },
     "execution_count": 66,
     "metadata": {},
     "output_type": "execute_result"
    }
   ],
   "source": [
    "np.arange(3)"
   ]
  },
  {
   "cell_type": "code",
   "execution_count": 67,
   "metadata": {},
   "outputs": [
    {
     "data": {
      "text/plain": [
       "array([[1., 2., 3.],\n",
       "       [1., 2., 3.],\n",
       "       [1., 2., 3.]])"
      ]
     },
     "execution_count": 67,
     "metadata": {},
     "output_type": "execute_result"
    }
   ],
   "source": [
    "np.ones((3,3))+np.arange(3)"
   ]
  },
  {
   "cell_type": "code",
   "execution_count": null,
   "metadata": {
    "colab": {
     "base_uri": "https://localhost:8080/"
    },
    "id": "0lteZrS-6dh0",
    "outputId": "e6a565a0-e734-4c5f-8705-ccb3f9c12270"
   },
   "outputs": [
    {
     "name": "stdout",
     "output_type": "stream",
     "text": [
      "Original arrays:\n",
      "Array-1\n",
      "[[0 0 0]\n",
      " [1 2 3]\n",
      " [4 5 6]]\n",
      "Array-2\n",
      "[10 11 12]\n",
      "\n",
      "New Array:\n",
      "[[10 11 12]\n",
      " [11 13 15]\n",
      " [14 16 18]]\n"
     ]
    }
   ],
   "source": [
    "## sample output"
   ]
  },
  {
   "cell_type": "markdown",
   "metadata": {
    "id": "W9mCoSxU92BL"
   },
   "source": [
    "###### 9. Write a NumPy program to extract all the elements of the second row from a given (4x4) array."
   ]
  },
  {
   "cell_type": "code",
   "execution_count": 70,
   "metadata": {
    "id": "V88Mi3yhBfgI"
   },
   "outputs": [
    {
     "data": {
      "text/plain": [
       "array([4, 5, 6, 7])"
      ]
     },
     "execution_count": 70,
     "metadata": {},
     "output_type": "execute_result"
    }
   ],
   "source": [
    "x=arra_data = np.arange(0,16).reshape((4, 4))\n",
    "x[1]"
   ]
  },
  {
   "cell_type": "code",
   "execution_count": null,
   "metadata": {
    "colab": {
     "base_uri": "https://localhost:8080/"
    },
    "id": "ybbGis1E91S8",
    "outputId": "42123911-acc4-47c0-ccd1-be25b3b76737"
   },
   "outputs": [
    {
     "name": "stdout",
     "output_type": "stream",
     "text": [
      "Original array:\n",
      "[[ 0  1  2  3]\n",
      " [ 4  5  6  7]\n",
      " [ 8  9 10 11]\n",
      " [12 13 14 15]]\n",
      "\n",
      "Extracted data: Second row\n",
      "[4 5 6 7]\n"
     ]
    }
   ],
   "source": [
    "import numpy as np\n",
    "arra_data = np.arange(0,16).reshape((4, 4))\n",
    "print(\"Original array:\")\n",
    "print(arra_data)\n",
    "print(\"\\nExtracted data: Second row\")\n",
    "print(arra_data[1,:])"
   ]
  },
  {
   "cell_type": "markdown",
   "metadata": {
    "id": "t76Rc47gATll"
   },
   "source": [
    "###### 10. Write a NumPy program to extract third and fourth elements of the first and second rows from a given (4x4) array."
   ]
  },
  {
   "cell_type": "code",
   "execution_count": 77,
   "metadata": {
    "id": "tLyK4ieP91V_"
   },
   "outputs": [
    {
     "name": "stdout",
     "output_type": "stream",
     "text": [
      "[[ 0  1  2  3]\n",
      " [ 4  5  6  7]\n",
      " [ 8  9 10 11]\n",
      " [12 13 14 15]]\n",
      "Extracted data: Third and fourth elements of the first and second rows \n",
      "[[2 3]\n",
      " [6 7]]\n"
     ]
    }
   ],
   "source": [
    "x=arra_data = np.arange(0,16).reshape((4, 4))\n",
    "print(x)\n",
    "\n",
    "print('Extracted data: Third and fourth elements of the first and second rows ')\n",
    "print(x[0:2,2:])"
   ]
  },
  {
   "cell_type": "code",
   "execution_count": null,
   "metadata": {
    "colab": {
     "base_uri": "https://localhost:8080/"
    },
    "id": "WzHXmOQ091Y1",
    "outputId": "ca0f6059-f622-4e59-c563-96b95ef291fa"
   },
   "outputs": [
    {
     "name": "stdout",
     "output_type": "stream",
     "text": [
      "Original array:\n",
      "[[ 0  1  2  3]\n",
      " [ 4  5  6  7]\n",
      " [ 8  9 10 11]\n",
      " [12 13 14 15]]\n",
      "\n",
      "Extracted data: Third and fourth elements of the first and second rows \n",
      "[[2 3]\n",
      " [6 7]]\n"
     ]
    }
   ],
   "source": [
    "## sample output\n"
   ]
  },
  {
   "cell_type": "markdown",
   "metadata": {
    "id": "mES8f4RDFxtM"
   },
   "source": [
    "###### 11. Write a NumPy program to get the dates of yesterday, today and tomorrow."
   ]
  },
  {
   "cell_type": "code",
   "execution_count": 82,
   "metadata": {
    "id": "fyBw7Uo-Aoad"
   },
   "outputs": [
    {
     "name": "stdout",
     "output_type": "stream",
     "text": [
      "Todays Date:  2022-09-10 12:37:15.051743\n",
      "Yesterday:  2022-09-09 12:37:15.051743\n",
      "Tomorrow:  2022-09-11 12:37:15.051743\n"
     ]
    }
   ],
   "source": [
    "import datetime\n",
    "today=datetime.datetime.today()\n",
    "print('Todays Date: ',today)\n",
    "yesterday=today-datetime.timedelta(days=1)\n",
    "print('Yesterday: ',yesterday)\n",
    "tomorrow=today+datetime.timedelta(days=1)\n",
    "print('Tomorrow: ',tomorrow)"
   ]
  },
  {
   "cell_type": "markdown",
   "metadata": {
    "id": "-y3xiL7_GZ3D"
   },
   "source": [
    "###### 12. Write a NumPy program to find the first Monday in May 2017."
   ]
  },
  {
   "cell_type": "code",
   "execution_count": 85,
   "metadata": {
    "id": "roe76-pSGNX4"
   },
   "outputs": [
    {
     "name": "stdout",
     "output_type": "stream",
     "text": [
      "First Monday in May 2017:\n",
      "2017-05-01\n"
     ]
    }
   ],
   "source": [
    "print(\"First Monday in May 2017:\")\n",
    "print(np.busday_offset('2017-05', 0, roll='forward', weekmask='Mon'))\n"
   ]
  },
  {
   "cell_type": "code",
   "execution_count": null,
   "metadata": {
    "colab": {
     "base_uri": "https://localhost:8080/"
    },
    "id": "gF_q2GENGNat",
    "outputId": "1d5a4aec-f19b-4a2d-9122-57c49d7fa6d2"
   },
   "outputs": [
    {
     "name": "stdout",
     "output_type": "stream",
     "text": [
      "First Monday in May 2017:\n",
      "2017-05-01\n"
     ]
    }
   ],
   "source": [
    "## sample output"
   ]
  }
 ],
 "metadata": {
  "colab": {
   "collapsed_sections": [],
   "name": "Numpy_assignment_day_2.ipynb",
   "provenance": []
  },
  "kernelspec": {
   "display_name": "Python 3 (ipykernel)",
   "language": "python",
   "name": "python3"
  },
  "language_info": {
   "codemirror_mode": {
    "name": "ipython",
    "version": 3
   },
   "file_extension": ".py",
   "mimetype": "text/x-python",
   "name": "python",
   "nbconvert_exporter": "python",
   "pygments_lexer": "ipython3",
   "version": "3.9.12"
  }
 },
 "nbformat": 4,
 "nbformat_minor": 1
}
